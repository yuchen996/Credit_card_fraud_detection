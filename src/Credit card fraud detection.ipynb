{
 "cells": [
  {
   "cell_type": "code",
   "execution_count": 1,
   "metadata": {},
   "outputs": [],
   "source": [
    "import pandas as pd\n",
    "import numpy as np\n",
    "import json\n",
    "import datetime\n",
    "import matplotlib.pyplot as plt\n",
    "import seaborn as sns"
   ]
  },
  {
   "cell_type": "code",
   "execution_count": 2,
   "metadata": {},
   "outputs": [],
   "source": [
    "##read data\n",
    "data = pd.read_json('data/transactions.json', lines=True)"
   ]
  },
  {
   "cell_type": "code",
   "execution_count": 3,
   "metadata": {},
   "outputs": [
    {
     "data": {
      "text/html": [
       "<div>\n",
       "<style scoped>\n",
       "    .dataframe tbody tr th:only-of-type {\n",
       "        vertical-align: middle;\n",
       "    }\n",
       "\n",
       "    .dataframe tbody tr th {\n",
       "        vertical-align: top;\n",
       "    }\n",
       "\n",
       "    .dataframe thead th {\n",
       "        text-align: right;\n",
       "    }\n",
       "</style>\n",
       "<table border=\"1\" class=\"dataframe\">\n",
       "  <thead>\n",
       "    <tr style=\"text-align: right;\">\n",
       "      <th></th>\n",
       "      <th>accountNumber</th>\n",
       "      <th>customerId</th>\n",
       "      <th>creditLimit</th>\n",
       "      <th>availableMoney</th>\n",
       "      <th>transactionDateTime</th>\n",
       "      <th>transactionAmount</th>\n",
       "      <th>merchantName</th>\n",
       "      <th>acqCountry</th>\n",
       "      <th>merchantCountryCode</th>\n",
       "      <th>posEntryMode</th>\n",
       "      <th>...</th>\n",
       "      <th>echoBuffer</th>\n",
       "      <th>currentBalance</th>\n",
       "      <th>merchantCity</th>\n",
       "      <th>merchantState</th>\n",
       "      <th>merchantZip</th>\n",
       "      <th>cardPresent</th>\n",
       "      <th>posOnPremises</th>\n",
       "      <th>recurringAuthInd</th>\n",
       "      <th>expirationDateKeyInMatch</th>\n",
       "      <th>isFraud</th>\n",
       "    </tr>\n",
       "  </thead>\n",
       "  <tbody>\n",
       "    <tr>\n",
       "      <th>0</th>\n",
       "      <td>737265056</td>\n",
       "      <td>737265056</td>\n",
       "      <td>5000</td>\n",
       "      <td>5000.0</td>\n",
       "      <td>2016-08-13T14:27:32</td>\n",
       "      <td>98.55</td>\n",
       "      <td>Uber</td>\n",
       "      <td>US</td>\n",
       "      <td>US</td>\n",
       "      <td>02</td>\n",
       "      <td>...</td>\n",
       "      <td></td>\n",
       "      <td>0.0</td>\n",
       "      <td></td>\n",
       "      <td></td>\n",
       "      <td></td>\n",
       "      <td>False</td>\n",
       "      <td></td>\n",
       "      <td></td>\n",
       "      <td>False</td>\n",
       "      <td>False</td>\n",
       "    </tr>\n",
       "    <tr>\n",
       "      <th>1</th>\n",
       "      <td>737265056</td>\n",
       "      <td>737265056</td>\n",
       "      <td>5000</td>\n",
       "      <td>5000.0</td>\n",
       "      <td>2016-10-11T05:05:54</td>\n",
       "      <td>74.51</td>\n",
       "      <td>AMC #191138</td>\n",
       "      <td>US</td>\n",
       "      <td>US</td>\n",
       "      <td>09</td>\n",
       "      <td>...</td>\n",
       "      <td></td>\n",
       "      <td>0.0</td>\n",
       "      <td></td>\n",
       "      <td></td>\n",
       "      <td></td>\n",
       "      <td>True</td>\n",
       "      <td></td>\n",
       "      <td></td>\n",
       "      <td>False</td>\n",
       "      <td>False</td>\n",
       "    </tr>\n",
       "    <tr>\n",
       "      <th>2</th>\n",
       "      <td>737265056</td>\n",
       "      <td>737265056</td>\n",
       "      <td>5000</td>\n",
       "      <td>5000.0</td>\n",
       "      <td>2016-11-08T09:18:39</td>\n",
       "      <td>7.47</td>\n",
       "      <td>Play Store</td>\n",
       "      <td>US</td>\n",
       "      <td>US</td>\n",
       "      <td>09</td>\n",
       "      <td>...</td>\n",
       "      <td></td>\n",
       "      <td>0.0</td>\n",
       "      <td></td>\n",
       "      <td></td>\n",
       "      <td></td>\n",
       "      <td>False</td>\n",
       "      <td></td>\n",
       "      <td></td>\n",
       "      <td>False</td>\n",
       "      <td>False</td>\n",
       "    </tr>\n",
       "    <tr>\n",
       "      <th>3</th>\n",
       "      <td>737265056</td>\n",
       "      <td>737265056</td>\n",
       "      <td>5000</td>\n",
       "      <td>5000.0</td>\n",
       "      <td>2016-12-10T02:14:50</td>\n",
       "      <td>7.47</td>\n",
       "      <td>Play Store</td>\n",
       "      <td>US</td>\n",
       "      <td>US</td>\n",
       "      <td>09</td>\n",
       "      <td>...</td>\n",
       "      <td></td>\n",
       "      <td>0.0</td>\n",
       "      <td></td>\n",
       "      <td></td>\n",
       "      <td></td>\n",
       "      <td>False</td>\n",
       "      <td></td>\n",
       "      <td></td>\n",
       "      <td>False</td>\n",
       "      <td>False</td>\n",
       "    </tr>\n",
       "    <tr>\n",
       "      <th>4</th>\n",
       "      <td>830329091</td>\n",
       "      <td>830329091</td>\n",
       "      <td>5000</td>\n",
       "      <td>5000.0</td>\n",
       "      <td>2016-03-24T21:04:46</td>\n",
       "      <td>71.18</td>\n",
       "      <td>Tim Hortons #947751</td>\n",
       "      <td>US</td>\n",
       "      <td>US</td>\n",
       "      <td>02</td>\n",
       "      <td>...</td>\n",
       "      <td></td>\n",
       "      <td>0.0</td>\n",
       "      <td></td>\n",
       "      <td></td>\n",
       "      <td></td>\n",
       "      <td>True</td>\n",
       "      <td></td>\n",
       "      <td></td>\n",
       "      <td>False</td>\n",
       "      <td>False</td>\n",
       "    </tr>\n",
       "  </tbody>\n",
       "</table>\n",
       "<p>5 rows × 29 columns</p>\n",
       "</div>"
      ],
      "text/plain": [
       "   accountNumber  customerId  creditLimit  availableMoney  \\\n",
       "0      737265056   737265056         5000          5000.0   \n",
       "1      737265056   737265056         5000          5000.0   \n",
       "2      737265056   737265056         5000          5000.0   \n",
       "3      737265056   737265056         5000          5000.0   \n",
       "4      830329091   830329091         5000          5000.0   \n",
       "\n",
       "   transactionDateTime  transactionAmount         merchantName acqCountry  \\\n",
       "0  2016-08-13T14:27:32              98.55                 Uber         US   \n",
       "1  2016-10-11T05:05:54              74.51          AMC #191138         US   \n",
       "2  2016-11-08T09:18:39               7.47           Play Store         US   \n",
       "3  2016-12-10T02:14:50               7.47           Play Store         US   \n",
       "4  2016-03-24T21:04:46              71.18  Tim Hortons #947751         US   \n",
       "\n",
       "  merchantCountryCode posEntryMode  ... echoBuffer currentBalance  \\\n",
       "0                  US           02  ...                       0.0   \n",
       "1                  US           09  ...                       0.0   \n",
       "2                  US           09  ...                       0.0   \n",
       "3                  US           09  ...                       0.0   \n",
       "4                  US           02  ...                       0.0   \n",
       "\n",
       "  merchantCity merchantState merchantZip  cardPresent  posOnPremises  \\\n",
       "0                                               False                  \n",
       "1                                                True                  \n",
       "2                                               False                  \n",
       "3                                               False                  \n",
       "4                                                True                  \n",
       "\n",
       "   recurringAuthInd expirationDateKeyInMatch isFraud  \n",
       "0                                      False   False  \n",
       "1                                      False   False  \n",
       "2                                      False   False  \n",
       "3                                      False   False  \n",
       "4                                      False   False  \n",
       "\n",
       "[5 rows x 29 columns]"
      ]
     },
     "execution_count": 3,
     "metadata": {},
     "output_type": "execute_result"
    }
   ],
   "source": [
    "data.head()"
   ]
  },
  {
   "cell_type": "markdown",
   "metadata": {},
   "source": [
    "The data has 786363 data points with 29 columns. There are 'int'. 'float', 'object', 'bool' types data as showing below. Noticing that missing values awre blank, I replaced them with 'np.nan' below as well, so that we could calculate missing portion later."
   ]
  },
  {
   "cell_type": "code",
   "execution_count": 4,
   "metadata": {},
   "outputs": [
    {
     "data": {
      "text/plain": [
       "(786363, 29)"
      ]
     },
     "execution_count": 4,
     "metadata": {},
     "output_type": "execute_result"
    }
   ],
   "source": [
    "data.shape"
   ]
  },
  {
   "cell_type": "code",
   "execution_count": 5,
   "metadata": {},
   "outputs": [
    {
     "data": {
      "text/plain": [
       "accountNumber                 int64\n",
       "customerId                    int64\n",
       "creditLimit                   int64\n",
       "availableMoney              float64\n",
       "transactionDateTime          object\n",
       "transactionAmount           float64\n",
       "merchantName                 object\n",
       "acqCountry                   object\n",
       "merchantCountryCode          object\n",
       "posEntryMode                 object\n",
       "posConditionCode             object\n",
       "merchantCategoryCode         object\n",
       "currentExpDate               object\n",
       "accountOpenDate              object\n",
       "dateOfLastAddressChange      object\n",
       "cardCVV                       int64\n",
       "enteredCVV                    int64\n",
       "cardLast4Digits               int64\n",
       "transactionType              object\n",
       "echoBuffer                   object\n",
       "currentBalance              float64\n",
       "merchantCity                 object\n",
       "merchantState                object\n",
       "merchantZip                  object\n",
       "cardPresent                    bool\n",
       "posOnPremises                object\n",
       "recurringAuthInd             object\n",
       "expirationDateKeyInMatch       bool\n",
       "isFraud                        bool\n",
       "dtype: object"
      ]
     },
     "execution_count": 5,
     "metadata": {},
     "output_type": "execute_result"
    }
   ],
   "source": [
    "data.dtypes"
   ]
  },
  {
   "cell_type": "code",
   "execution_count": 6,
   "metadata": {},
   "outputs": [],
   "source": [
    "##replace blacnk with np.nan\n",
    "data = data.replace(r'', np.NaN)"
   ]
  },
  {
   "cell_type": "code",
   "execution_count": 7,
   "metadata": {},
   "outputs": [
    {
     "data": {
      "text/plain": [
       "accountNumber                    0\n",
       "customerId                       0\n",
       "creditLimit                      0\n",
       "availableMoney                   0\n",
       "transactionDateTime              0\n",
       "transactionAmount                0\n",
       "merchantName                     0\n",
       "acqCountry                    4562\n",
       "merchantCountryCode            724\n",
       "posEntryMode                  4054\n",
       "posConditionCode               409\n",
       "merchantCategoryCode             0\n",
       "currentExpDate                   0\n",
       "accountOpenDate                  0\n",
       "dateOfLastAddressChange          0\n",
       "cardCVV                          0\n",
       "enteredCVV                       0\n",
       "cardLast4Digits                  0\n",
       "transactionType                698\n",
       "echoBuffer                  786363\n",
       "currentBalance                   0\n",
       "merchantCity                786363\n",
       "merchantState               786363\n",
       "merchantZip                 786363\n",
       "cardPresent                      0\n",
       "posOnPremises               786363\n",
       "recurringAuthInd            786363\n",
       "expirationDateKeyInMatch         0\n",
       "isFraud                          0\n",
       "dtype: int64"
      ]
     },
     "execution_count": 7,
     "metadata": {},
     "output_type": "execute_result"
    }
   ],
   "source": [
    "data.isnull().sum()"
   ]
  },
  {
   "cell_type": "markdown",
   "metadata": {},
   "source": [
    "Basic statistics are showing as below, we can see each feature's min and max as well as mean and std with quatile information. And more important, we want to know the distribution in each class 'Fraud\" and \"Normal, it is showing as below as well."
   ]
  },
  {
   "cell_type": "code",
   "execution_count": 8,
   "metadata": {},
   "outputs": [
    {
     "data": {
      "text/html": [
       "<div>\n",
       "<style scoped>\n",
       "    .dataframe tbody tr th:only-of-type {\n",
       "        vertical-align: middle;\n",
       "    }\n",
       "\n",
       "    .dataframe tbody tr th {\n",
       "        vertical-align: top;\n",
       "    }\n",
       "\n",
       "    .dataframe thead th {\n",
       "        text-align: right;\n",
       "    }\n",
       "</style>\n",
       "<table border=\"1\" class=\"dataframe\">\n",
       "  <thead>\n",
       "    <tr style=\"text-align: right;\">\n",
       "      <th></th>\n",
       "      <th>accountNumber</th>\n",
       "      <th>customerId</th>\n",
       "      <th>creditLimit</th>\n",
       "      <th>availableMoney</th>\n",
       "      <th>transactionAmount</th>\n",
       "      <th>cardCVV</th>\n",
       "      <th>enteredCVV</th>\n",
       "      <th>cardLast4Digits</th>\n",
       "      <th>echoBuffer</th>\n",
       "      <th>currentBalance</th>\n",
       "      <th>merchantCity</th>\n",
       "      <th>merchantState</th>\n",
       "      <th>merchantZip</th>\n",
       "      <th>posOnPremises</th>\n",
       "      <th>recurringAuthInd</th>\n",
       "    </tr>\n",
       "  </thead>\n",
       "  <tbody>\n",
       "    <tr>\n",
       "      <th>count</th>\n",
       "      <td>7.863630e+05</td>\n",
       "      <td>7.863630e+05</td>\n",
       "      <td>786363.000000</td>\n",
       "      <td>786363.000000</td>\n",
       "      <td>786363.000000</td>\n",
       "      <td>786363.000000</td>\n",
       "      <td>786363.000000</td>\n",
       "      <td>786363.000000</td>\n",
       "      <td>0.0</td>\n",
       "      <td>786363.000000</td>\n",
       "      <td>0.0</td>\n",
       "      <td>0.0</td>\n",
       "      <td>0.0</td>\n",
       "      <td>0.0</td>\n",
       "      <td>0.0</td>\n",
       "    </tr>\n",
       "    <tr>\n",
       "      <th>mean</th>\n",
       "      <td>5.372326e+08</td>\n",
       "      <td>5.372326e+08</td>\n",
       "      <td>10759.464459</td>\n",
       "      <td>6250.725369</td>\n",
       "      <td>136.985791</td>\n",
       "      <td>544.467338</td>\n",
       "      <td>544.183857</td>\n",
       "      <td>4757.417799</td>\n",
       "      <td>NaN</td>\n",
       "      <td>4508.739089</td>\n",
       "      <td>NaN</td>\n",
       "      <td>NaN</td>\n",
       "      <td>NaN</td>\n",
       "      <td>NaN</td>\n",
       "      <td>NaN</td>\n",
       "    </tr>\n",
       "    <tr>\n",
       "      <th>std</th>\n",
       "      <td>2.554211e+08</td>\n",
       "      <td>2.554211e+08</td>\n",
       "      <td>11636.174890</td>\n",
       "      <td>8880.783989</td>\n",
       "      <td>147.725569</td>\n",
       "      <td>261.524220</td>\n",
       "      <td>261.551254</td>\n",
       "      <td>2996.583810</td>\n",
       "      <td>NaN</td>\n",
       "      <td>6457.442068</td>\n",
       "      <td>NaN</td>\n",
       "      <td>NaN</td>\n",
       "      <td>NaN</td>\n",
       "      <td>NaN</td>\n",
       "      <td>NaN</td>\n",
       "    </tr>\n",
       "    <tr>\n",
       "      <th>min</th>\n",
       "      <td>1.000881e+08</td>\n",
       "      <td>1.000881e+08</td>\n",
       "      <td>250.000000</td>\n",
       "      <td>-1005.630000</td>\n",
       "      <td>0.000000</td>\n",
       "      <td>100.000000</td>\n",
       "      <td>0.000000</td>\n",
       "      <td>0.000000</td>\n",
       "      <td>NaN</td>\n",
       "      <td>0.000000</td>\n",
       "      <td>NaN</td>\n",
       "      <td>NaN</td>\n",
       "      <td>NaN</td>\n",
       "      <td>NaN</td>\n",
       "      <td>NaN</td>\n",
       "    </tr>\n",
       "    <tr>\n",
       "      <th>25%</th>\n",
       "      <td>3.301333e+08</td>\n",
       "      <td>3.301333e+08</td>\n",
       "      <td>5000.000000</td>\n",
       "      <td>1077.420000</td>\n",
       "      <td>33.650000</td>\n",
       "      <td>310.000000</td>\n",
       "      <td>310.000000</td>\n",
       "      <td>2178.000000</td>\n",
       "      <td>NaN</td>\n",
       "      <td>689.910000</td>\n",
       "      <td>NaN</td>\n",
       "      <td>NaN</td>\n",
       "      <td>NaN</td>\n",
       "      <td>NaN</td>\n",
       "      <td>NaN</td>\n",
       "    </tr>\n",
       "    <tr>\n",
       "      <th>50%</th>\n",
       "      <td>5.074561e+08</td>\n",
       "      <td>5.074561e+08</td>\n",
       "      <td>7500.000000</td>\n",
       "      <td>3184.860000</td>\n",
       "      <td>87.900000</td>\n",
       "      <td>535.000000</td>\n",
       "      <td>535.000000</td>\n",
       "      <td>4733.000000</td>\n",
       "      <td>NaN</td>\n",
       "      <td>2451.760000</td>\n",
       "      <td>NaN</td>\n",
       "      <td>NaN</td>\n",
       "      <td>NaN</td>\n",
       "      <td>NaN</td>\n",
       "      <td>NaN</td>\n",
       "    </tr>\n",
       "    <tr>\n",
       "      <th>75%</th>\n",
       "      <td>7.676200e+08</td>\n",
       "      <td>7.676200e+08</td>\n",
       "      <td>15000.000000</td>\n",
       "      <td>7500.000000</td>\n",
       "      <td>191.480000</td>\n",
       "      <td>785.000000</td>\n",
       "      <td>785.000000</td>\n",
       "      <td>7338.000000</td>\n",
       "      <td>NaN</td>\n",
       "      <td>5291.095000</td>\n",
       "      <td>NaN</td>\n",
       "      <td>NaN</td>\n",
       "      <td>NaN</td>\n",
       "      <td>NaN</td>\n",
       "      <td>NaN</td>\n",
       "    </tr>\n",
       "    <tr>\n",
       "      <th>max</th>\n",
       "      <td>9.993896e+08</td>\n",
       "      <td>9.993896e+08</td>\n",
       "      <td>50000.000000</td>\n",
       "      <td>50000.000000</td>\n",
       "      <td>2011.540000</td>\n",
       "      <td>998.000000</td>\n",
       "      <td>998.000000</td>\n",
       "      <td>9998.000000</td>\n",
       "      <td>NaN</td>\n",
       "      <td>47498.810000</td>\n",
       "      <td>NaN</td>\n",
       "      <td>NaN</td>\n",
       "      <td>NaN</td>\n",
       "      <td>NaN</td>\n",
       "      <td>NaN</td>\n",
       "    </tr>\n",
       "  </tbody>\n",
       "</table>\n",
       "</div>"
      ],
      "text/plain": [
       "       accountNumber    customerId    creditLimit  availableMoney  \\\n",
       "count   7.863630e+05  7.863630e+05  786363.000000   786363.000000   \n",
       "mean    5.372326e+08  5.372326e+08   10759.464459     6250.725369   \n",
       "std     2.554211e+08  2.554211e+08   11636.174890     8880.783989   \n",
       "min     1.000881e+08  1.000881e+08     250.000000    -1005.630000   \n",
       "25%     3.301333e+08  3.301333e+08    5000.000000     1077.420000   \n",
       "50%     5.074561e+08  5.074561e+08    7500.000000     3184.860000   \n",
       "75%     7.676200e+08  7.676200e+08   15000.000000     7500.000000   \n",
       "max     9.993896e+08  9.993896e+08   50000.000000    50000.000000   \n",
       "\n",
       "       transactionAmount        cardCVV     enteredCVV  cardLast4Digits  \\\n",
       "count      786363.000000  786363.000000  786363.000000    786363.000000   \n",
       "mean          136.985791     544.467338     544.183857      4757.417799   \n",
       "std           147.725569     261.524220     261.551254      2996.583810   \n",
       "min             0.000000     100.000000       0.000000         0.000000   \n",
       "25%            33.650000     310.000000     310.000000      2178.000000   \n",
       "50%            87.900000     535.000000     535.000000      4733.000000   \n",
       "75%           191.480000     785.000000     785.000000      7338.000000   \n",
       "max          2011.540000     998.000000     998.000000      9998.000000   \n",
       "\n",
       "       echoBuffer  currentBalance  merchantCity  merchantState  merchantZip  \\\n",
       "count         0.0   786363.000000           0.0            0.0          0.0   \n",
       "mean          NaN     4508.739089           NaN            NaN          NaN   \n",
       "std           NaN     6457.442068           NaN            NaN          NaN   \n",
       "min           NaN        0.000000           NaN            NaN          NaN   \n",
       "25%           NaN      689.910000           NaN            NaN          NaN   \n",
       "50%           NaN     2451.760000           NaN            NaN          NaN   \n",
       "75%           NaN     5291.095000           NaN            NaN          NaN   \n",
       "max           NaN    47498.810000           NaN            NaN          NaN   \n",
       "\n",
       "       posOnPremises  recurringAuthInd  \n",
       "count            0.0               0.0  \n",
       "mean             NaN               NaN  \n",
       "std              NaN               NaN  \n",
       "min              NaN               NaN  \n",
       "25%              NaN               NaN  \n",
       "50%              NaN               NaN  \n",
       "75%              NaN               NaN  \n",
       "max              NaN               NaN  "
      ]
     },
     "execution_count": 8,
     "metadata": {},
     "output_type": "execute_result"
    }
   ],
   "source": [
    "##basic statistics about data\n",
    "data.describe()"
   ]
  },
  {
   "cell_type": "code",
   "execution_count": 9,
   "metadata": {},
   "outputs": [
    {
     "data": {
      "text/html": [
       "<div>\n",
       "<style scoped>\n",
       "    .dataframe tbody tr th:only-of-type {\n",
       "        vertical-align: middle;\n",
       "    }\n",
       "\n",
       "    .dataframe tbody tr th {\n",
       "        vertical-align: top;\n",
       "    }\n",
       "\n",
       "    .dataframe thead th {\n",
       "        text-align: right;\n",
       "    }\n",
       "</style>\n",
       "<table border=\"1\" class=\"dataframe\">\n",
       "  <thead>\n",
       "    <tr style=\"text-align: right;\">\n",
       "      <th></th>\n",
       "      <th>accountNumber</th>\n",
       "      <th>customerId</th>\n",
       "      <th>creditLimit</th>\n",
       "      <th>availableMoney</th>\n",
       "      <th>transactionAmount</th>\n",
       "      <th>cardCVV</th>\n",
       "      <th>enteredCVV</th>\n",
       "      <th>cardLast4Digits</th>\n",
       "      <th>echoBuffer</th>\n",
       "      <th>currentBalance</th>\n",
       "      <th>merchantCity</th>\n",
       "      <th>merchantState</th>\n",
       "      <th>merchantZip</th>\n",
       "      <th>cardPresent</th>\n",
       "      <th>posOnPremises</th>\n",
       "      <th>recurringAuthInd</th>\n",
       "      <th>expirationDateKeyInMatch</th>\n",
       "    </tr>\n",
       "    <tr>\n",
       "      <th>isFraud</th>\n",
       "      <th></th>\n",
       "      <th></th>\n",
       "      <th></th>\n",
       "      <th></th>\n",
       "      <th></th>\n",
       "      <th></th>\n",
       "      <th></th>\n",
       "      <th></th>\n",
       "      <th></th>\n",
       "      <th></th>\n",
       "      <th></th>\n",
       "      <th></th>\n",
       "      <th></th>\n",
       "      <th></th>\n",
       "      <th></th>\n",
       "      <th></th>\n",
       "      <th></th>\n",
       "    </tr>\n",
       "  </thead>\n",
       "  <tbody>\n",
       "    <tr>\n",
       "      <th>False</th>\n",
       "      <td>5.373624e+08</td>\n",
       "      <td>5.373624e+08</td>\n",
       "      <td>10754.884062</td>\n",
       "      <td>6252.455386</td>\n",
       "      <td>135.570249</td>\n",
       "      <td>544.180723</td>\n",
       "      <td>543.897110</td>\n",
       "      <td>4757.081613</td>\n",
       "      <td>NaN</td>\n",
       "      <td>4502.428675</td>\n",
       "      <td>NaN</td>\n",
       "      <td>NaN</td>\n",
       "      <td>NaN</td>\n",
       "      <td>0.451469</td>\n",
       "      <td>NaN</td>\n",
       "      <td>NaN</td>\n",
       "      <td>0.001331</td>\n",
       "    </tr>\n",
       "    <tr>\n",
       "      <th>True</th>\n",
       "      <td>5.291445e+08</td>\n",
       "      <td>5.291445e+08</td>\n",
       "      <td>11044.958525</td>\n",
       "      <td>6142.894186</td>\n",
       "      <td>225.215905</td>\n",
       "      <td>562.331884</td>\n",
       "      <td>562.056616</td>\n",
       "      <td>4778.372151</td>\n",
       "      <td>NaN</td>\n",
       "      <td>4902.064338</td>\n",
       "      <td>NaN</td>\n",
       "      <td>NaN</td>\n",
       "      <td>NaN</td>\n",
       "      <td>0.278248</td>\n",
       "      <td>NaN</td>\n",
       "      <td>NaN</td>\n",
       "      <td>0.001047</td>\n",
       "    </tr>\n",
       "  </tbody>\n",
       "</table>\n",
       "</div>"
      ],
      "text/plain": [
       "         accountNumber    customerId   creditLimit  availableMoney  \\\n",
       "isFraud                                                              \n",
       "False     5.373624e+08  5.373624e+08  10754.884062     6252.455386   \n",
       "True      5.291445e+08  5.291445e+08  11044.958525     6142.894186   \n",
       "\n",
       "         transactionAmount     cardCVV  enteredCVV  cardLast4Digits  \\\n",
       "isFraud                                                               \n",
       "False           135.570249  544.180723  543.897110      4757.081613   \n",
       "True            225.215905  562.331884  562.056616      4778.372151   \n",
       "\n",
       "         echoBuffer  currentBalance  merchantCity  merchantState  merchantZip  \\\n",
       "isFraud                                                                         \n",
       "False           NaN     4502.428675           NaN            NaN          NaN   \n",
       "True            NaN     4902.064338           NaN            NaN          NaN   \n",
       "\n",
       "         cardPresent  posOnPremises  recurringAuthInd  \\\n",
       "isFraud                                                 \n",
       "False       0.451469            NaN               NaN   \n",
       "True        0.278248            NaN               NaN   \n",
       "\n",
       "         expirationDateKeyInMatch  \n",
       "isFraud                            \n",
       "False                    0.001331  \n",
       "True                     0.001047  "
      ]
     },
     "execution_count": 9,
     "metadata": {},
     "output_type": "execute_result"
    }
   ],
   "source": [
    "##class statistics characteristics\n",
    "data.groupby('isFraud').mean()"
   ]
  },
  {
   "cell_type": "markdown",
   "metadata": {},
   "source": [
    "General insepction find: transaction mount fraud is lower than normal on average; cardPresent is higher in fraud."
   ]
  },
  {
   "cell_type": "code",
   "execution_count": 10,
   "metadata": {},
   "outputs": [],
   "source": [
    "#customerID is same with accountNumber, remove it\n",
    "data = data.drop(['customerId'], axis=1)\n",
    "#encode CVV remove original two columns\n",
    "data['CVVmatch'] = (data['cardCVV'] == data['enteredCVV'])\n",
    "data = data.drop(['cardCVV'], axis=1)\n",
    "data = data.drop(['enteredCVV'], axis=1)"
   ]
  },
  {
   "cell_type": "markdown",
   "metadata": {},
   "source": [
    "Check categorical data unique values:"
   ]
  },
  {
   "cell_type": "code",
   "execution_count": 11,
   "metadata": {},
   "outputs": [
    {
     "data": {
      "text/plain": [
       "PURCHASE                745193\n",
       "REVERSAL                 20303\n",
       "ADDRESS_VERIFICATION     20169\n",
       "Name: transactionType, dtype: int64"
      ]
     },
     "execution_count": 11,
     "metadata": {},
     "output_type": "execute_result"
    }
   ],
   "source": [
    "##categorical data investigate\n",
    "data['transactionType'].value_counts()"
   ]
  },
  {
   "cell_type": "code",
   "execution_count": 12,
   "metadata": {},
   "outputs": [
    {
     "data": {
      "text/plain": [
       "US     774709\n",
       "MEX      3130\n",
       "CAN      2424\n",
       "PR       1538\n",
       "Name: acqCountry, dtype: int64"
      ]
     },
     "execution_count": 12,
     "metadata": {},
     "output_type": "execute_result"
    }
   ],
   "source": [
    "data['acqCountry'].value_counts()"
   ]
  },
  {
   "cell_type": "code",
   "execution_count": 13,
   "metadata": {},
   "outputs": [
    {
     "data": {
      "text/plain": [
       "US     778511\n",
       "MEX      3143\n",
       "CAN      2426\n",
       "PR       1559\n",
       "Name: merchantCountryCode, dtype: int64"
      ]
     },
     "execution_count": 13,
     "metadata": {},
     "output_type": "execute_result"
    }
   ],
   "source": [
    "data['merchantCountryCode'].value_counts()"
   ]
  },
  {
   "cell_type": "code",
   "execution_count": 14,
   "metadata": {},
   "outputs": [
    {
     "data": {
      "text/plain": [
       "online_retail           202156\n",
       "fastfood                112138\n",
       "entertainment            80098\n",
       "food                     75490\n",
       "online_gifts             66238\n",
       "rideshare                51136\n",
       "hotels                   34097\n",
       "fuel                     23910\n",
       "subscriptions            22901\n",
       "auto                     21651\n",
       "health                   19092\n",
       "personal care            18964\n",
       "airline                  15412\n",
       "mobileapps               14990\n",
       "online_subscriptions     11067\n",
       "furniture                 7432\n",
       "food_delivery             6000\n",
       "gym                       2209\n",
       "cable/phone               1382\n",
       "Name: merchantCategoryCode, dtype: int64"
      ]
     },
     "execution_count": 14,
     "metadata": {},
     "output_type": "execute_result"
    }
   ],
   "source": [
    "data['merchantCategoryCode'].value_counts()"
   ]
  },
  {
   "cell_type": "code",
   "execution_count": 15,
   "metadata": {},
   "outputs": [
    {
     "data": {
      "text/plain": [
       "05    315035\n",
       "09    236481\n",
       "02    195934\n",
       "90     19576\n",
       "80     15283\n",
       "Name: posEntryMode, dtype: int64"
      ]
     },
     "execution_count": 15,
     "metadata": {},
     "output_type": "execute_result"
    }
   ],
   "source": [
    "data['posEntryMode'].value_counts()"
   ]
  },
  {
   "cell_type": "code",
   "execution_count": 16,
   "metadata": {},
   "outputs": [
    {
     "data": {
      "text/plain": [
       "01    628787\n",
       "08    149634\n",
       "99      7533\n",
       "Name: posConditionCode, dtype: int64"
      ]
     },
     "execution_count": 16,
     "metadata": {},
     "output_type": "execute_result"
    }
   ],
   "source": [
    "data['posConditionCode'].value_counts()"
   ]
  },
  {
   "cell_type": "code",
   "execution_count": 17,
   "metadata": {},
   "outputs": [
    {
     "data": {
      "text/plain": [
       "Uber                        25613\n",
       "Lyft                        25523\n",
       "oldnavy.com                 16992\n",
       "staples.com                 16980\n",
       "alibaba.com                 16959\n",
       "                            ...  \n",
       "Golds Gym #956354               2\n",
       "Boost Mobile #104815            2\n",
       "TMobile Wireless #602341        1\n",
       "EZ Wireless #149871             1\n",
       "Curves #849125                  1\n",
       "Name: merchantName, Length: 2490, dtype: int64"
      ]
     },
     "execution_count": 17,
     "metadata": {},
     "output_type": "execute_result"
    }
   ],
   "source": [
    "data['merchantName'].value_counts()"
   ]
  },
  {
   "cell_type": "markdown",
   "metadata": {},
   "source": [
    "#### Finding: 'merchantName should get special treatment as it has 2000 different values, onehot-encoder should not be used here as it will create too many feature columns and affect the model performance."
   ]
  },
  {
   "cell_type": "code",
   "execution_count": 18,
   "metadata": {},
   "outputs": [],
   "source": [
    "#get rid of the merchant name '#...' part\n",
    "data['merchantName'] = data['merchantName'].apply(lambda x: x.partition('#')[0].strip())\n",
    "##change transaction time to 'datetime'\n",
    "data['transactionDateTime'] = pd.to_datetime(data['transactionDateTime'])"
   ]
  },
  {
   "cell_type": "code",
   "execution_count": 19,
   "metadata": {},
   "outputs": [
    {
     "name": "stdout",
     "output_type": "stream",
     "text": [
      "data dimensions: (786363, 27)\n",
      "fraction of missing values in features:\n",
      "acqCountry             0.005801\n",
      "merchantCountryCode    0.000921\n",
      "posEntryMode           0.005155\n",
      "posConditionCode       0.000520\n",
      "transactionType        0.000888\n",
      "echoBuffer             1.000000\n",
      "merchantCity           1.000000\n",
      "merchantState          1.000000\n",
      "merchantZip            1.000000\n",
      "posOnPremises          1.000000\n",
      "recurringAuthInd       1.000000\n",
      "dtype: float64\n",
      "data types of the features with missing values:\n",
      "acqCountry              object\n",
      "merchantCountryCode     object\n",
      "posEntryMode            object\n",
      "posConditionCode        object\n",
      "transactionType         object\n",
      "echoBuffer             float64\n",
      "merchantCity           float64\n",
      "merchantState          float64\n",
      "merchantZip            float64\n",
      "posOnPremises          float64\n",
      "recurringAuthInd       float64\n",
      "dtype: object\n"
     ]
    }
   ],
   "source": [
    "##investigate the missing values\n",
    "print('data dimensions:',data.shape)\n",
    "perc_missing_per_ftr = data.isnull().sum(axis=0)/data.shape[0]\n",
    "print('fraction of missing values in features:')\n",
    "print(perc_missing_per_ftr[perc_missing_per_ftr > 0])\n",
    "print('data types of the features with missing values:')\n",
    "print(data[perc_missing_per_ftr[perc_missing_per_ftr > 0].index].dtypes)"
   ]
  },
  {
   "cell_type": "markdown",
   "metadata": {},
   "source": [
    "Notice that missing data are all blank, replace them with NaN, and give all the missing data portion in each category as well as the portion of data containing any missing features. From the result above, it draws to the conclusion that echoBuffer', 'merchantCity', 'merchantState', 'merchantZip','posOnPremises', 'recurringAuthInd' features does not contain any valid data, we can remove them from our dataset.Also I removed 'dateOfLastAddressChange' as it may contributes little to the prediction result. But if later there are more time, I can further investigate how to use that feature"
   ]
  },
  {
   "cell_type": "code",
   "execution_count": 20,
   "metadata": {},
   "outputs": [],
   "source": [
    "col_drops = ['echoBuffer', 'merchantCity', 'merchantState', 'merchantZip','posOnPremises', 'recurringAuthInd', 'dateOfLastAddressChange']\n",
    "data = data.drop(col_drops, axis=1)"
   ]
  },
  {
   "cell_type": "code",
   "execution_count": 21,
   "metadata": {},
   "outputs": [
    {
     "name": "stdout",
     "output_type": "stream",
     "text": [
      "fraction of points with missing values: 0.012328911711258033\n"
     ]
    }
   ],
   "source": [
    "#after removed black columns, check missing data point portion\n",
    "frac_missing = sum(data.isnull().sum(axis=1)!=0)/data.shape[0]\n",
    "print('fraction of points with missing values:',frac_missing)"
   ]
  },
  {
   "cell_type": "code",
   "execution_count": 22,
   "metadata": {},
   "outputs": [],
   "source": [
    "#parse transactioni time to month, day, hour, and notice that all data are from 2016 year.\n",
    "data['month'] = data['transactionDateTime'].apply(lambda x: x.month)\n",
    "data['day_of_month'] = data['transactionDateTime'].apply(lambda x: x.day)\n",
    "data['hour_of_day'] = data['transactionDateTime'].apply(lambda x: x.hour)"
   ]
  },
  {
   "cell_type": "markdown",
   "metadata": {},
   "source": [
    "### EDA"
   ]
  },
  {
   "cell_type": "code",
   "execution_count": 23,
   "metadata": {},
   "outputs": [
    {
     "name": "stdout",
     "output_type": "stream",
     "text": [
      "The total data point is 786363\n",
      "Fraud data point is 12417\n",
      "Valid data point is 773946\n",
      "The fraud portion is 0.01579041740264992\n"
     ]
    }
   ],
   "source": [
    "## Fraud portion imbalanced data\n",
    "Fraud = data[data['isFraud'] == True]\n",
    "Normal = data[data['isFraud'] == False]\n",
    "print('The total data point is', data.shape[0])\n",
    "print('Fraud data point is', Fraud.shape[0])\n",
    "print(\"Valid data point is\", Normal.shape[0])\n",
    "print(\"The fraud portion is\", Fraud.shape[0]/data.shape[0])"
   ]
  },
  {
   "cell_type": "markdown",
   "metadata": {},
   "source": [
    "This is a highly imbalanced data, for future implement, the first thing to do is dealing with imbalance."
   ]
  },
  {
   "cell_type": "code",
   "execution_count": 24,
   "metadata": {},
   "outputs": [
    {
     "data": {
      "image/png": "[encoded data removed]",
      "text/plain": [
       "<Figure size 1008x432 with 2 Axes>"
      ]
     },
     "metadata": {
      "needs_background": "light"
     },
     "output_type": "display_data"
    }
   ],
   "source": [
    "#boxplot of fraud vs. normal data\n",
    "fig, (ax1, ax2) = plt.subplots(1,2, figsize = (14,6))\n",
    "sns.boxplot(x=\"isFraud\", y='transactionAmount', data=data, ax = ax1).set_title(\"frand vs. normal\")\n",
    "sns.boxplot(x=\"isFraud\", y='transactionAmount', data=data, ax = ax2).set_title(\"fraud vs. normal with log transaction\")\n",
    "ax2.set(yscale=\"log\")\n",
    "plt.show()"
   ]
  },
  {
   "cell_type": "code",
   "execution_count": 25,
   "metadata": {},
   "outputs": [
    {
     "data": {
      "image/png": "[encoded data removed]",
      "text/plain": [
       "<Figure size 360x360 with 1 Axes>"
      ]
     },
     "metadata": {
      "needs_background": "light"
     },
     "output_type": "display_data"
    }
   ],
   "source": [
    "ax = sns.catplot(x = \"isFraud\", kind = \"count\", data = data, alpha=0.8, palette = 'YlOrBr')\n",
    "plt.show()"
   ]
  },
  {
   "cell_type": "markdown",
   "metadata": {},
   "source": [
    "### Fraud and Normal transaction amount distribution comparison\n",
    "conclusion: In the smaller amount range, normal transactions tend to happen more often, while when amount becomes bigger, fraud tends to happen more frequent then normal transaction.(from the green area above blue)"
   ]
  },
  {
   "cell_type": "code",
   "execution_count": 26,
   "metadata": {},
   "outputs": [
    {
     "name": "stderr",
     "output_type": "stream",
     "text": [
      "C:\\Users\\huayu\\Anaconda3\\lib\\site-packages\\seaborn\\distributions.py:2557: FutureWarning: `distplot` is a deprecated function and will be removed in a future version. Please adapt your code to use either `displot` (a figure-level function with similar flexibility) or `histplot` (an axes-level function for histograms).\n",
      "  warnings.warn(msg, FutureWarning)\n",
      "C:\\Users\\huayu\\Anaconda3\\lib\\site-packages\\seaborn\\distributions.py:2557: FutureWarning: `distplot` is a deprecated function and will be removed in a future version. Please adapt your code to use either `displot` (a figure-level function with similar flexibility) or `histplot` (an axes-level function for histograms).\n",
      "  warnings.warn(msg, FutureWarning)\n"
     ]
    },
    {
     "data": {
      "image/png": "[encoded data removed]",
      "text/plain": [
       "<Figure size 864x432 with 1 Axes>"
      ]
     },
     "metadata": {
      "needs_background": "light"
     },
     "output_type": "display_data"
    }
   ],
   "source": [
    "fig, ax = plt.subplots(figsize=(12, 6))\n",
    "sns.distplot(Fraud['transactionAmount'], label = 'Fraud', color=\"g\")\n",
    "sns.distplot(Normal['transactionAmount'], label = 'Normal', color = 'b')\n",
    "plt.title(\"Frand vs. Normal transaction amount distribution\")\n",
    "plt.legend()\n",
    "plt.show()"
   ]
  },
  {
   "cell_type": "markdown",
   "metadata": {},
   "source": [
    "### check seasonality\n",
    "\n",
    "From the result figures we can see there is no apparent seasonality. The fraud amount does not change with a pattern no matter with month, day of the month or hour of the day.These columns will be removed later."
   ]
  },
  {
   "cell_type": "code",
   "execution_count": 27,
   "metadata": {},
   "outputs": [
    {
     "data": {
      "image/png": "[encoded data removed]",
      "text/plain": [
       "<Figure size 1080x1224 with 3 Axes>"
      ]
     },
     "metadata": {
      "needs_background": "light"
     },
     "output_type": "display_data"
    }
   ],
   "source": [
    "fig, (ax1, ax2, ax3) = plt.subplots(3, 1, figsize = (15, 17))\n",
    "sns.barplot(x = 'month', y = 'transactionAmount', data = Fraud, ax = ax1).set_title(\"average of fraud transaction amount with month\")\n",
    "sns.barplot(x = 'day_of_month', y = 'transactionAmount', data = Fraud, ax = ax2).set_title(\"average of fraud transaction amount with day of the month\")\n",
    "sns.barplot(x = 'hour_of_day', y = 'transactionAmount', data = Fraud, ax = ax3).set_title('average of fraud transaction amount with hour of the day')\n",
    "plt.show()"
   ]
  },
  {
   "cell_type": "code",
   "execution_count": 28,
   "metadata": {},
   "outputs": [
    {
     "data": {
      "image/png": "[encoded data removed]",
      "text/plain": [
       "<Figure size 936x1152 with 3 Axes>"
      ]
     },
     "metadata": {
      "needs_background": "light"
     },
     "output_type": "display_data"
    }
   ],
   "source": [
    "#fig, ax = plt(figsize= (20, 8))\n",
    "fig, (ax1, ax2, ax3) = plt.subplots(3, 1, figsize = (13, 16))\n",
    "sns.countplot(x=\"month\",data = Fraud,  palette=\"Blues\", ax = ax1)\n",
    "sns.countplot(x=\"day_of_month\",data = Fraud,  palette=\"Blues\", ax = ax2)\n",
    "sns.countplot(x=\"hour_of_day\",data = Fraud,  palette=\"Blues\", ax = ax3)\n",
    "plt.show()"
   ]
  },
  {
   "cell_type": "code",
   "execution_count": 29,
   "metadata": {},
   "outputs": [],
   "source": [
    "col_drops = ['month', 'day_of_month', 'hour_of_day', 'currentExpDate', 'accountOpenDate']\n",
    "data = data.drop(col_drops, axis=1)"
   ]
  },
  {
   "cell_type": "markdown",
   "metadata": {},
   "source": [
    "### check how merchant category influence fraud \n",
    "merchant catergory with fraud transaction amount compare to normal transactions.\n",
    "conlusion: some merchant category appear more fraud transaction than others. \"health\", \"online_gifts\", \"online_retail\", \"rideshare\". \"subscriptions\" those categories apparently have more average transaction amount of money in fraud than in normal. There are also \"entertainment\", \"fastfood\", \"auto\", \"personal care\", \"food\", \"hotels\", \"airline\", \"furniture\" also have more fraud average amount of money than normal. Though, in categories \"mobileapps\", \"food_delivery\", \"gym\", \"fuel\", \"online_subscriptions\", \"cable/phone\" arely have fraud compared to the normal amount of money spent on them."
   ]
  },
  {
   "cell_type": "code",
   "execution_count": 30,
   "metadata": {},
   "outputs": [
    {
     "data": {
      "image/png": "[encoded data removed]",
      "text/plain": [
       "<Figure size 1440x576 with 1 Axes>"
      ]
     },
     "metadata": {
      "needs_background": "light"
     },
     "output_type": "display_data"
    }
   ],
   "source": [
    "fig, ax = plt.subplots(figsize= (20, 8))\n",
    "ax = sns.barplot(x = 'merchantCategoryCode', y = 'transactionAmount', hue = 'isFraud', data = data, palette=\"Set2\")\n",
    "ax.set_xticklabels(ax.get_xticklabels(), rotation= 45, fontsize=10)\n",
    "#ax.set_xticklabels(rotation= 'vertical')\n",
    "#plt.xticks(rotation=45)\n",
    "plt.xlabel('Merchant Catergory')\n",
    "plt.ylabel('Average Transaction Amount')\n",
    "plt.show()"
   ]
  },
  {
   "cell_type": "markdown",
   "metadata": {},
   "source": [
    "#### merchant category apparently influenced fraud amount, attention should be draw on merchant related features.\n",
    "conclusion: online transaction type has most fraud cases."
   ]
  },
  {
   "cell_type": "code",
   "execution_count": 31,
   "metadata": {},
   "outputs": [
    {
     "data": {
      "image/png": "[encoded data removed]",
      "text/plain": [
       "<Figure size 720x360 with 1 Axes>"
      ]
     },
     "metadata": {
      "needs_background": "light"
     },
     "output_type": "display_data"
    }
   ],
   "source": [
    "pd.value_counts(Fraud['merchantCategoryCode'], normalize = True).plot.bar(figsize = (10, 5))\n",
    "plt.ylabel('fraction')\n",
    "plt.xticks(rotation=40)\n",
    "plt.title('Fraud frequency with Merchant Catergory')\n",
    "plt.show()"
   ]
  },
  {
   "cell_type": "markdown",
   "metadata": {},
   "source": [
    "### Does card present influence fraud number?\n",
    "conclusion: when card id not present, there tend to be more fraud."
   ]
  },
  {
   "cell_type": "code",
   "execution_count": 32,
   "metadata": {},
   "outputs": [
    {
     "data": {
      "image/png": "[encoded data removed]",
      "text/plain": [
       "<Figure size 864x432 with 1 Axes>"
      ]
     },
     "metadata": {
      "needs_background": "light"
     },
     "output_type": "display_data"
    }
   ],
   "source": [
    "fig, ax = plt.subplots(figsize= (12, 6))\n",
    "ax = sns.barplot(x = 'cardPresent', y = 'transactionAmount', hue = 'isFraud', data = data, palette=\"magma\", saturation = 0.9)\n",
    "ax.set_xticklabels(ax.get_xticklabels(), rotation= 45, fontsize=10)\n",
    "plt.title('Transaction amount with whether card present')\n",
    "plt.xlabel('Card Present')\n",
    "plt.ylabel('Average Transaction Amount')\n",
    "plt.show()"
   ]
  },
  {
   "cell_type": "markdown",
   "metadata": {},
   "source": [
    "### Does posEntryMode affect fraud?\n",
    "conclusion: yes, for \"05\" type, there is less fraud happen compare to other types, and all types have more average transaction amount in fraud than normal."
   ]
  },
  {
   "cell_type": "code",
   "execution_count": 33,
   "metadata": {},
   "outputs": [
    {
     "data": {
      "image/png": "[encoded data removed]",
      "text/plain": [
       "<Figure size 864x432 with 1 Axes>"
      ]
     },
     "metadata": {
      "needs_background": "light"
     },
     "output_type": "display_data"
    }
   ],
   "source": [
    "fig, ax = plt.subplots(figsize= (12, 6))\n",
    "ax = sns.barplot(x = 'posEntryMode', y = 'transactionAmount', hue = 'isFraud', data = data, palette=\"YlOrBr\", saturation = 0.6)\n",
    "ax.set_xticklabels(ax.get_xticklabels(), fontsize=14)\n",
    "plt.title('Transaction amount with posEntryMode')\n",
    "plt.xlabel('posEntryMode')\n",
    "plt.ylabel('Average Transaction Amount')\n",
    "plt.show()"
   ]
  },
  {
   "cell_type": "markdown",
   "metadata": {},
   "source": [
    "### Does acqCountry affect fraud?"
   ]
  },
  {
   "cell_type": "code",
   "execution_count": 34,
   "metadata": {},
   "outputs": [
    {
     "data": {
      "image/png": "[encoded data removed]",
      "text/plain": [
       "<Figure size 864x432 with 1 Axes>"
      ]
     },
     "metadata": {
      "needs_background": "light"
     },
     "output_type": "display_data"
    }
   ],
   "source": [
    "fig, ax = plt.subplots(figsize= (12, 6))\n",
    "ax = sns.barplot(x = 'acqCountry', y = 'transactionAmount', hue = 'isFraud', data = data, palette=\"crest\", saturation = 0.6)\n",
    "ax.set_xticklabels(ax.get_xticklabels(), fontsize=14)\n",
    "plt.title('Transaction amount with acqCountry')\n",
    "plt.xlabel('acqCountry')\n",
    "plt.ylabel('Average Transaction Amount')\n",
    "plt.show()"
   ]
  },
  {
   "cell_type": "markdown",
   "metadata": {},
   "source": [
    "### Does merchantCountryCode affect fraud?"
   ]
  },
  {
   "cell_type": "code",
   "execution_count": 35,
   "metadata": {},
   "outputs": [
    {
     "data": {
      "image/png": "[encoded data removed]",
      "text/plain": [
       "<Figure size 864x432 with 1 Axes>"
      ]
     },
     "metadata": {
      "needs_background": "light"
     },
     "output_type": "display_data"
    }
   ],
   "source": [
    "fig, ax = plt.subplots(figsize= (12, 6))\n",
    "ax = sns.barplot(x = 'merchantCountryCode', y = 'transactionAmount', hue = 'isFraud', data = data, palette=\"YlOrBr\", saturation = 0.6)\n",
    "ax.set_xticklabels(ax.get_xticklabels(), fontsize=14)\n",
    "plt.title('Transaction amount with merchantCountryCode')\n",
    "# plt.xlabel('posEntryMode')\n",
    "# plt.ylabel('Average Transaction Amount')\n",
    "plt.show()"
   ]
  },
  {
   "cell_type": "markdown",
   "metadata": {},
   "source": [
    "### Does posConditionCode affect fraud?"
   ]
  },
  {
   "cell_type": "code",
   "execution_count": 36,
   "metadata": {},
   "outputs": [
    {
     "data": {
      "image/png": "[encoded data removed]",
      "text/plain": [
       "<Figure size 864x432 with 1 Axes>"
      ]
     },
     "metadata": {
      "needs_background": "light"
     },
     "output_type": "display_data"
    }
   ],
   "source": [
    "fig, ax = plt.subplots(figsize= (12, 6))\n",
    "ax = sns.barplot(x = 'posConditionCode', y = 'transactionAmount', hue = 'isFraud', data = data, palette=\"flare\", saturation = 0.4)\n",
    "ax.set_xticklabels(ax.get_xticklabels(), fontsize=14)\n",
    "plt.title('Transaction amount with posConditionCode')\n",
    "\n",
    "plt.show()"
   ]
  },
  {
   "cell_type": "markdown",
   "metadata": {},
   "source": [
    "### Doess CVVmatch and Expiration date match affect fraud ?\n",
    "conslusion:When expiration date does not macth, there tends to be more fraud. From the figures we can see when expiration matches, the fraud amount is less than normal transaction. While CVVmatch surplrisingly does not influence the fraud that much."
   ]
  },
  {
   "cell_type": "code",
   "execution_count": 37,
   "metadata": {},
   "outputs": [
    {
     "data": {
      "image/png": "[encoded data removed]",
      "text/plain": [
       "<Figure size 720x432 with 1 Axes>"
      ]
     },
     "metadata": {
      "needs_background": "light"
     },
     "output_type": "display_data"
    }
   ],
   "source": [
    "fig, ax = plt.subplots(figsize= (10, 6))\n",
    "sns.barplot(x = 'expirationDateKeyInMatch', y = 'transactionAmount', hue = 'isFraud', data = data, \n",
    "                 palette=\"Blues\", saturation = 0.4)\n",
    "ax.set_xticklabels(ax.get_xticklabels(), fontsize=14)\n",
    "plt.title('Transaction amount with expirationDateKeyInMatch')\n",
    "plt.show()"
   ]
  },
  {
   "cell_type": "code",
   "execution_count": 38,
   "metadata": {},
   "outputs": [
    {
     "data": {
      "image/png": "[encoded data removed]",
      "text/plain": [
       "<Figure size 720x432 with 1 Axes>"
      ]
     },
     "metadata": {
      "needs_background": "light"
     },
     "output_type": "display_data"
    }
   ],
   "source": [
    "fig, ax = plt.subplots(figsize= (10, 6))\n",
    "ax = sns.barplot(x = 'CVVmatch', y = 'transactionAmount', hue = 'isFraud', data = data, palette=\"Blues\", saturation = 0.4)\n",
    "ax.set_xticklabels(ax.get_xticklabels(), fontsize=14)\n",
    "plt.title('Transaction amount with CVVmatch')\n",
    "plt.show()"
   ]
  },
  {
   "cell_type": "markdown",
   "metadata": {},
   "source": [
    "## feature engineering\n",
    "Citation paper: Bhattacharyya, S., Jha, S., Tharakunnel, K., & Westland, J. C. (2011). Data mining for credit card fraud: A comparative study. Decision support systems, 50(3), 602-613.\n"
   ]
  },
  {
   "cell_type": "markdown",
   "metadata": {},
   "source": [
    "### feature1 &2 are customer-based features\n",
    "feature1 -- \n",
    "average spend per day over the past 30 days before this transaction with a credit card.\n",
    "sum up all the transaction beloongs to this card during the past 30 days prior to the transaction \n",
    "then divided by 30 (the beginning just divided the days amount being summer up) \\\n",
    "feature2 --\n",
    "Count 30 days before the transaction date how many transaction this card has on average."
   ]
  },
  {
   "cell_type": "code",
   "execution_count": 39,
   "metadata": {},
   "outputs": [],
   "source": [
    "##feature1\n",
    "data_copy = data\n",
    "data_copy = data_copy.set_index('transactionDateTime')\n",
    "_group = data_copy.groupby('accountNumber').rolling('30d').transactionAmount.mean()\n",
    "amount30_day = pd.DataFrame(_group)\n",
    "amount30_day1 = amount30_day.rename(columns={\"transactionAmount\":\"AverageAmount_30days\"})\n",
    "amount30_day1 = amount30_day1.reset_index()\n",
    "amount30_day1 = amount30_day1.sort_values(by=['accountNumber', 'transactionDateTime'])\n",
    "data_copy = data_copy.reset_index()\n",
    "data_copy = data_copy.sort_values(by=['accountNumber', 'transactionDateTime'], ignore_index = True)\n",
    "data1 = pd.concat([data_copy, amount30_day1['AverageAmount_30days']], axis = 1)"
   ]
  },
  {
   "cell_type": "code",
   "execution_count": 40,
   "metadata": {},
   "outputs": [],
   "source": [
    "###feature2 --- transaction number per account every 30 days\n",
    "data_copy = data1\n",
    "data_copy = data_copy.set_index('transactionDateTime')\n",
    "_group = data_copy.groupby('accountNumber').rolling('30d').transactionAmount.count()\n",
    "amount30_day = pd.DataFrame(_group)\n",
    "amount30_day2 = amount30_day.rename(columns={\"transactionAmount\":\"Count30days\"})\n",
    "amount30_day2 = amount30_day2.reset_index()\n",
    "data_copy = data_copy.reset_index()\n",
    "data_copy = data_copy.sort_values(by=['accountNumber', 'transactionDateTime'], ignore_index = True)\n",
    "data1 = pd.concat([data_copy, amount30_day2['Count30days']], axis = 1)"
   ]
  },
  {
   "cell_type": "markdown",
   "metadata": {},
   "source": [
    "### feature3&4 are based on both account and merchant category\n",
    "feature3 -- amount od same merchant type over 30 days. Calculate past 30 days up to a transaction average amount on same merchant category with the credit card. \\\n",
    "feature4 -- number of same merchant type over 30 days.Total number transactions with the same merchant over a period of 30 days before a given transaction."
   ]
  },
  {
   "cell_type": "code",
   "execution_count": 41,
   "metadata": {},
   "outputs": [],
   "source": [
    "#feature3\n",
    "data_copy = data1\n",
    "data_copy = data_copy.set_index('transactionDateTime')\n",
    "_group = data_copy.groupby(['accountNumber', 'merchantCategoryCode']).rolling('30d').transactionAmount.mean()\n",
    "amountMerchant = pd.DataFrame(_group)\n",
    "amountMerchant = amountMerchant.rename(columns={\"transactionAmount\":\"AmountMerhant30days\"})\n",
    "amountMerchant = amountMerchant.reset_index()\n",
    "data_copy = data_copy.reset_index()\n",
    "data_copy = data_copy.sort_values(by=['accountNumber', 'transactionDateTime'], ignore_index = True)\n",
    "data1 = pd.concat([data_copy, amountMerchant['AmountMerhant30days']], axis = 1)"
   ]
  },
  {
   "cell_type": "code",
   "execution_count": 42,
   "metadata": {},
   "outputs": [],
   "source": [
    "###feature4\n",
    "data_copy = data1\n",
    "data_copy = data_copy.set_index('transactionDateTime')\n",
    "_group = data_copy.groupby(['accountNumber', 'merchantCategoryCode']).rolling('30d').transactionAmount.count()\n",
    "NumberMerchantType = pd.DataFrame(_group)\n",
    "NumberMerchantType = NumberMerchantType.rename(columns={\"transactionAmount\":\"NumberMerhantType30days\"})\n",
    "NumberMerchantType = NumberMerchantType.reset_index()\n",
    "data_copy = data_copy.reset_index()\n",
    "data_copy = data_copy.sort_values(by=['accountNumber', 'transactionDateTime'], ignore_index = True)\n",
    "data1 = pd.concat([data_copy, NumberMerchantType['NumberMerhantType30days']], axis = 1)"
   ]
  },
  {
   "cell_type": "markdown",
   "metadata": {},
   "source": [
    "### feature5&6 merchant name and account based features\n",
    "\n",
    "feature 5 -- amount same merchant, average amount per day spent over a 30 days period on all transactions up to this one with a card.\\\n",
    "feature 6 -- number same merchant, average count number per day spent over a 30 days period on all transactions up to this one with a card."
   ]
  },
  {
   "cell_type": "code",
   "execution_count": 43,
   "metadata": {},
   "outputs": [],
   "source": [
    "###feature5\n",
    "data_copy = data1\n",
    "data_copy = data_copy.set_index('transactionDateTime')\n",
    "_group = data_copy.groupby(['accountNumber', 'merchantName']).rolling('30d').transactionAmount.mean()\n",
    "AmountMerchantName = pd.DataFrame(_group)\n",
    "AmountMerchantName = AmountMerchantName.rename(columns={\"transactionAmount\":\"AmountMerhantName30days\"})\n",
    "AmountMerchantName = AmountMerchantName.reset_index()\n",
    "data_copy = data_copy.reset_index()\n",
    "data_copy = data_copy.sort_values(by=['accountNumber', 'transactionDateTime'], ignore_index = True)\n",
    "data1 = pd.concat([data_copy, AmountMerchantName['AmountMerhantName30days']], axis = 1)\n"
   ]
  },
  {
   "cell_type": "code",
   "execution_count": 44,
   "metadata": {},
   "outputs": [],
   "source": [
    "###feature6\n",
    "data_copy = data1\n",
    "data_copy = data_copy.set_index('transactionDateTime')\n",
    "_group = data_copy.groupby(['accountNumber', 'merchantName']).rolling('30d').transactionAmount.count()\n",
    "NumberMerchantName = pd.DataFrame(_group)\n",
    "NumberMerchantName = NumberMerchantName.rename(columns={\"transactionAmount\":\"NumberMerhantName30days\"})\n",
    "NumberMerchantName = NumberMerchantName.reset_index()\n",
    "data_copy = data_copy.reset_index()\n",
    "data_copy = data_copy.sort_values(by=['accountNumber', 'transactionDateTime'], ignore_index = True)\n",
    "data1 = pd.concat([data_copy, NumberMerchantName['NumberMerhantName30days']], axis = 1)"
   ]
  },
  {
   "cell_type": "code",
   "execution_count": 45,
   "metadata": {},
   "outputs": [],
   "source": [
    "data1['AmountMerhant30days'] = data1['AmountMerhant30days'].apply(lambda x: np.round(x,2))\n",
    "data1['AmountMerhantName30days'] = data1['AmountMerhantName30days'].apply(lambda x: np.round(x,2))"
   ]
  },
  {
   "cell_type": "markdown",
   "metadata": {},
   "source": [
    "### available money portion on the account "
   ]
  },
  {
   "cell_type": "code",
   "execution_count": 46,
   "metadata": {},
   "outputs": [],
   "source": [
    "###feature7\n",
    "data1['MoneyAvailable_Percent'] = np.round((1 - data1['currentBalance']/data1['creditLimit']), 2)"
   ]
  },
  {
   "cell_type": "markdown",
   "metadata": {},
   "source": [
    "## reversal"
   ]
  },
  {
   "cell_type": "code",
   "execution_count": 47,
   "metadata": {},
   "outputs": [
    {
     "name": "stdout",
     "output_type": "stream",
     "text": [
      "The total reversal type transaction amount is 2821792.5\n",
      "The total number transaction on reversal type is 20303\n"
     ]
    }
   ],
   "source": [
    "ReversalAmount = data1[data1['transactionType'] == 'REVERSAL'].transactionAmount.sum()\n",
    "print(\"The total reversal type transaction amount is\", ReversalAmount)\n",
    "ReversalNumber = data1[data1['transactionType'] == 'REVERSAL'].shape[0]\n",
    "print(\"The total number transaction on reversal type is\", ReversalNumber)"
   ]
  },
  {
   "cell_type": "markdown",
   "metadata": {},
   "source": [
    "## Multi-swipe detection"
   ]
  },
  {
   "cell_type": "markdown",
   "metadata": {},
   "source": [
    "### method 1: define duplicate as same account number, same transaction amount, merchant name, merchant country code, merchant category caode."
   ]
  },
  {
   "cell_type": "code",
   "execution_count": 48,
   "metadata": {},
   "outputs": [
    {
     "name": "stdout",
     "output_type": "stream",
     "text": [
      "The multi-swipe number is 13321\n",
      "The multi-swipe transaction amount is 1932444.31\n"
     ]
    }
   ],
   "source": [
    "df_new= data\n",
    "##define same account number, transaction amount with same merchant name in a certain period of time (for example 5mins) \n",
    "###can be multi-swipe. Find the earlest time of same account, mount and merchant transaction group.\n",
    "idx = df_new.groupby(['accountNumber', 'transactionAmount','merchantName', 'merchantCountryCode', 'merchantCategoryCode'])['transactionDateTime'].idxmin()\n",
    "df_new1 = df_new.loc[idx]\n",
    "df_new1 = df_new1[['accountNumber','transactionAmount', 'merchantName', 'transactionDateTime', 'merchantCountryCode', 'merchantCategoryCode']]\n",
    "df_merge = pd.merge(df_new, df_new1, on = [\"accountNumber\", \"transactionAmount\", \"merchantName\", 'merchantCountryCode', 'merchantCategoryCode'], how = 'left')\n",
    "df_merge['time'] = df_merge['transactionDateTime_x']- df_merge['transactionDateTime_y']\n",
    "df_merge['time_in_s'] = df_merge['time'].apply(lambda x: x.seconds)\n",
    "num_multi = df_merge[(df_merge['time_in_s'] > 0) & (df_merge['time_in_s'] < 300)]\n",
    "print(\"The multi-swipe number is\", num_multi.shape[0])\n",
    "multi_amount = num_multi['transactionAmount'].sum()\n",
    "print(\"The multi-swipe transaction amount is\", multi_amount)"
   ]
  },
  {
   "cell_type": "markdown",
   "metadata": {},
   "source": [
    "## feature relations and correlation matrix"
   ]
  },
  {
   "cell_type": "code",
   "execution_count": 49,
   "metadata": {},
   "outputs": [],
   "source": [
    "num_features = ['accountNumber','creditLimit', 'availableMoney', 'transactionAmount', 'cardLast4Digits','currentBalance', \n",
    "               'AverageAmount_30days', 'Count30days','AmountMerhant30days', 'NumberMerhantType30days','AmountMerhantName30days',\n",
    "               'NumberMerhantName30days','MoneyAvailable_Percent' ]"
   ]
  },
  {
   "cell_type": "code",
   "execution_count": 50,
   "metadata": {},
   "outputs": [],
   "source": [
    "cat_features = ['merchantName','acqCountry', 'merchantCountryCode', 'posEntryMode', 'posConditionCode', 'merchantCategoryCode', \n",
    "               'transactionType','cardPresent', 'expirationDateKeyInMatch', 'CVVmatch']"
   ]
  },
  {
   "cell_type": "code",
   "execution_count": 51,
   "metadata": {},
   "outputs": [
    {
     "name": "stdout",
     "output_type": "stream",
     "text": [
      "Categotical features: 10\n",
      "Numerical features: 13\n"
     ]
    }
   ],
   "source": [
    "print('Categotical features:', len(cat_features))\n",
    "print('Numerical features:', len(num_features))"
   ]
  },
  {
   "cell_type": "code",
   "execution_count": 52,
   "metadata": {},
   "outputs": [],
   "source": [
    "data = data1\n",
    "### change all boolean type to 1/0\n",
    "data['isFraud']=data['isFraud'].astype('int')\n",
    "data['cardPresent']=data['cardPresent'].astype('int')\n",
    "data['expirationDateKeyInMatch']=data['expirationDateKeyInMatch'].astype('int')\n",
    "data['CVVmatch']=data['CVVmatch'].astype('int')"
   ]
  },
  {
   "cell_type": "code",
   "execution_count": 53,
   "metadata": {},
   "outputs": [],
   "source": [
    "from sklearn.preprocessing import StandardScaler\n",
    "scaler = StandardScaler()\n",
    "data_num = pd.DataFrame(scaler.fit_transform(data[num_features]), columns = num_features)"
   ]
  },
  {
   "cell_type": "markdown",
   "metadata": {},
   "source": [
    "### Correlation matrix"
   ]
  },
  {
   "cell_type": "code",
   "execution_count": 54,
   "metadata": {},
   "outputs": [
    {
     "data": {
      "image/png": "[encoded data removed]",
      "text/plain": [
       "<Figure size 864x864 with 2 Axes>"
      ]
     },
     "metadata": {
      "needs_background": "light"
     },
     "output_type": "display_data"
    }
   ],
   "source": [
    "## Correlation\n",
    "import seaborn as sns\n",
    "#get correlations of each features in dataset\n",
    "corr_map = data_num.corr()\n",
    "top_corr_features = corr_map.index\n",
    "plt.figure(figsize=(12,12))\n",
    "plt.title('Correlation between features')\n",
    "#plot heat map of correlation\n",
    "g=sns.heatmap(data_num.corr(),annot=True, cmap=\"RdYlGn\")"
   ]
  },
  {
   "cell_type": "markdown",
   "metadata": {},
   "source": [
    "From the correlation matrix, we can see there are some feature are highly correlated, such as \"Count30days\" with \"NumberMerchantName30days\" and \"NumberMerchantName30days\", also the \"available money\" is hightly correlated with \"credit limit\"."
   ]
  },
  {
   "cell_type": "markdown",
   "metadata": {},
   "source": [
    "## Implement model"
   ]
  },
  {
   "cell_type": "code",
   "execution_count": 55,
   "metadata": {},
   "outputs": [],
   "source": [
    "from sklearn.preprocessing import OneHotEncoder\n",
    "from sklearn.compose import ColumnTransformer\n",
    "from sklearn.pipeline import Pipeline\n",
    "from sklearn.preprocessing import OneHotEncoder\n",
    "from sklearn.preprocessing import StandardScaler, LabelEncoder, OrdinalEncoder\n",
    "from catboost import CatBoostClassifier\n",
    "from sklearn.model_selection import train_test_split\n",
    "from sklearn.metrics import f1_score\n",
    "from sklearn import preprocessing\n",
    "import pandas as pd\n",
    "import numpy as np\n",
    "from xgboost import XGBClassifier\n",
    "from sklearn.metrics import accuracy_score\n",
    "from sklearn.metrics import confusion_matrix\n",
    "from sklearn.model_selection import GridSearchCV\n",
    "from sklearn.model_selection import StratifiedKFold\n",
    "from sklearn.metrics import roc_auc_score\n",
    "from xgboost import plot_importance\n"
   ]
  },
  {
   "cell_type": "code",
   "execution_count": 56,
   "metadata": {},
   "outputs": [
    {
     "name": "stdout",
     "output_type": "stream",
     "text": [
      "data dimensions: (786363, 25)\n",
      "fraction of missing values in features:\n",
      "acqCountry             0.005801\n",
      "merchantCountryCode    0.000921\n",
      "posEntryMode           0.005155\n",
      "posConditionCode       0.000520\n",
      "transactionType        0.000888\n",
      "dtype: float64\n",
      "data types of the features with missing values:\n",
      "acqCountry             object\n",
      "merchantCountryCode    object\n",
      "posEntryMode           object\n",
      "posConditionCode       object\n",
      "transactionType        object\n",
      "dtype: object\n",
      "fraction of points with missing values: 0.012328911711258033\n"
     ]
    }
   ],
   "source": [
    "print('data dimensions:',data.shape)\n",
    "perc_missing_per_ftr = data.isnull().sum(axis=0)/data.shape[0]\n",
    "print('fraction of missing values in features:')\n",
    "print(perc_missing_per_ftr[perc_missing_per_ftr > 0])\n",
    "print('data types of the features with missing values:')\n",
    "print(data[perc_missing_per_ftr[perc_missing_per_ftr > 0].index].dtypes)\n",
    "\n",
    "frac_missing = sum(data.isnull().sum(axis=1)!=0)/data.shape[0]\n",
    "print('fraction of points with missing values:',frac_missing)"
   ]
  },
  {
   "cell_type": "markdown",
   "metadata": {},
   "source": [
    "### XGBoost model"
   ]
  },
  {
   "cell_type": "code",
   "execution_count": 57,
   "metadata": {},
   "outputs": [
    {
     "name": "stdout",
     "output_type": "stream",
     "text": [
      "Numerical feature: 13\n"
     ]
    }
   ],
   "source": [
    "num_features = ['accountNumber','creditLimit', 'availableMoney', 'transactionAmount', 'cardLast4Digits','currentBalance', \n",
    "               'AverageAmount_30days', 'Count30days','AmountMerhant30days', 'NumberMerhantType30days','AmountMerhantName30days',\n",
    "               'NumberMerhantName30days','MoneyAvailable_Percent' ]\n",
    "print(\"Numerical feature:\", len(num_features))"
   ]
  },
  {
   "cell_type": "code",
   "execution_count": 58,
   "metadata": {},
   "outputs": [],
   "source": [
    "cat_features = ['acqCountry', 'merchantCountryCode', 'posEntryMode', 'posConditionCode', 'merchantCategoryCode', \n",
    "               'transactionType','cardPresent', 'expirationDateKeyInMatch', 'CVVmatch']"
   ]
  },
  {
   "cell_type": "code",
   "execution_count": 59,
   "metadata": {},
   "outputs": [
    {
     "name": "stdout",
     "output_type": "stream",
     "text": [
      "Categorical feature: 10\n"
     ]
    }
   ],
   "source": [
    "le_features = ['merchantName']\n",
    "print(\"Categorical feature:\", len(cat_features)+len(le_features))"
   ]
  },
  {
   "cell_type": "code",
   "execution_count": 60,
   "metadata": {},
   "outputs": [],
   "source": [
    "#drop time column\n",
    "data = data.drop(['transactionDateTime'], axis = 1)"
   ]
  },
  {
   "cell_type": "code",
   "execution_count": 61,
   "metadata": {},
   "outputs": [],
   "source": [
    "X = data.iloc[:,data.columns != 'isFraud']\n",
    "y = data['isFraud']"
   ]
  },
  {
   "cell_type": "code",
   "execution_count": 62,
   "metadata": {},
   "outputs": [],
   "source": [
    "# one-hot encoder\n",
    "categorical_transformer = Pipeline(steps=[\n",
    "    ('onehot', OneHotEncoder(sparse=False,handle_unknown='ignore'))])\n",
    "numeric_transformer = Pipeline(steps=[\n",
    "    ('scaler', StandardScaler())])\n",
    "label_transformer = Pipeline(steps = [\n",
    "    ('label', OrdinalEncoder())\n",
    "])\n",
    "# collect the transformers\n",
    "preprocessor = ColumnTransformer(\n",
    "    transformers=[\n",
    "        ('num', numeric_transformer, num_features),\n",
    "        ('cat', categorical_transformer, cat_features),\n",
    "    ('merchant', label_transformer,le_features)\n",
    "    ])"
   ]
  },
  {
   "cell_type": "code",
   "execution_count": 63,
   "metadata": {},
   "outputs": [],
   "source": [
    "X_prep = preprocessor.fit_transform(X)\n",
    "#collect feature names\n",
    "feature_names = preprocessor.transformers_[0][-1] + \\\n",
    "            list(preprocessor.named_transformers_['cat'][0].get_feature_names(cat_features)) +\\\n",
    "                 preprocessor.transformers_[2][-1]\n"
   ]
  },
  {
   "cell_type": "markdown",
   "metadata": {},
   "source": [
    "For saving memory, I save prepared data with onehot encoder into a cvs file for next time using, does not need to run from the beginning."
   ]
  },
  {
   "cell_type": "code",
   "execution_count": 64,
   "metadata": {},
   "outputs": [],
   "source": [
    "### save the prepared data later for other models\n",
    "# prep_data = pd.concat([X_prep, pd.DataFrame(y)], axis = 1)\n",
    "# prep_data.to_csv('data_prepared.csv')"
   ]
  },
  {
   "cell_type": "markdown",
   "metadata": {},
   "source": [
    "### XGBoost\n",
    "XGBoost handles imbalanced data with \"scale_pos_weight\" parameter for assign different wegihts. Generally, assign it as ratio of negative class to positive class, though here is not the case.\n",
    "summary of XGBoost model:\n",
    "I have tried parameter tuning with \"scale_pos_weight\", the best number is 2.9 with accuracy around 98.53% and f1 score 0.271.\n",
    "XGBoost advantages -- XGBoost can deal with missing data withouth preprocessing and choose the best method for imputation."
   ]
  },
  {
   "cell_type": "code",
   "execution_count": 113,
   "metadata": {},
   "outputs": [],
   "source": [
    "#train-test split\n",
    "random_state = 42\n",
    "X_train, X_test,y_train, y_test = train_test_split(X_prep, y, stratify= y, test_size = 0.3, random_state = random_state)\n",
    "#X_val, X_test, y_val, y_test = train_test_split(X_other, y_other, test_size = 0.33, random_state = random_state, stratify=y_other)"
   ]
  },
  {
   "cell_type": "code",
   "execution_count": 114,
   "metadata": {},
   "outputs": [
    {
     "data": {
      "text/plain": [
       "XGBClassifier(base_score=0.5, booster=None, colsample_bylevel=1,\n",
       "              colsample_bynode=1, colsample_bytree=1,\n",
       "              feature_names=['accountNumber', 'creditLimit', 'availableMoney',\n",
       "                             'transactionAmount', 'cardLast4Digits',\n",
       "                             'currentBalance', 'AverageAmount_30days',\n",
       "                             'Count30days', 'AmountMerhant30days',\n",
       "                             'NumberMerhantType30days',\n",
       "                             'AmountMerhantName30days',\n",
       "                             'NumberMerhantName30da...\n",
       "              gamma=0, gpu_id=-1, importance_type='gain',\n",
       "              interaction_constraints=None, learning_rate=0.4, max_delta_step=0,\n",
       "              max_depth=8, min_child_weight=1, missing=nan,\n",
       "              monotone_constraints=None, n_estimators=400, n_jobs=0,\n",
       "              num_parallel_tree=1, random_state=42, reg_alpha=0.1, reg_lambda=1,\n",
       "              scale_pos_weight=2.9, seed=42, subsample=1, tree_method=None,\n",
       "              validate_parameters=False, verbosity=None)"
      ]
     },
     "execution_count": 114,
     "metadata": {},
     "output_type": "execute_result"
    }
   ],
   "source": [
    "xgb = XGBClassifier(scale_pos_weight = 2.9, \n",
    "                    seed = 42, \n",
    "                    learning_rate = 0.4, \n",
    "                    reg_alpha = 0.1,\n",
    "                    n_estimators = 400,\n",
    "                    feature_names = feature_names,\n",
    "                    max_depth = 8\n",
    "                   )\n",
    "xgb.fit(X_train, y_train)\n"
   ]
  },
  {
   "cell_type": "code",
   "execution_count": 115,
   "metadata": {},
   "outputs": [],
   "source": [
    "y_pred = xgb.predict(X_test)"
   ]
  },
  {
   "cell_type": "code",
   "execution_count": 116,
   "metadata": {},
   "outputs": [
    {
     "name": "stdout",
     "output_type": "stream",
     "text": [
      "F1 score for XGBoost model is 0.2669584245076586\n",
      "Accuracy score for XGBoost model is 0.985799609171333\n"
     ]
    }
   ],
   "source": [
    "print(\"F1 score for XGBoost model is\", f1_score(y_test, y_pred))\n",
    "print(\"Accuracy score for XGBoost model is\", accuracy_score(y_test, y_pred))"
   ]
  },
  {
   "cell_type": "code",
   "execution_count": 120,
   "metadata": {},
   "outputs": [
    {
     "data": {
      "text/plain": [
       "<AxesSubplot:title={'center':'Feature importance'}, xlabel='F score', ylabel='Features'>"
      ]
     },
     "execution_count": 120,
     "metadata": {},
     "output_type": "execute_result"
    },
    {
     "data": {
      "image/png": "[encoded data removed]",
      "text/plain": [
       "<Figure size 432x288 with 1 Axes>"
      ]
     },
     "metadata": {
      "needs_background": "light"
     },
     "output_type": "display_data"
    }
   ],
   "source": [
    "from xgboost import plot_importance\n",
    "plot_importance(xgb, max_num_features = 15)"
   ]
  },
  {
   "cell_type": "markdown",
   "metadata": {},
   "source": [
    "The feature being created play a huge part in deciding whethere a transaction is fraud or not, as many of them appeared the most important 15 features. such as \"AmountMerhant30days\", \" AmountMerhantName30days\", \"Count30days\", \"NumberMerhantType30days\", \"AmountMerhantName30days\". And also, \"merchantName\" and \" posEntryMode\" is important for prediction as well, more feature engineering towards this feature, may boost the model performance."
   ]
  },
  {
   "cell_type": "markdown",
   "metadata": {},
   "source": [
    "### XGB with gridsearch (did not use)\n",
    "#### (due to the limitation of computing resources, this method does not give a good result)\n"
   ]
  },
  {
   "cell_type": "code",
   "execution_count": 121,
   "metadata": {},
   "outputs": [
    {
     "ename": "MemoryError",
     "evalue": "Unable to allocate 6.00 MiB for an array with shape (786363,) and data type float64",
     "output_type": "error",
     "traceback": [
      "\u001b[1;31m---------------------------------------------------------------------------\u001b[0m",
      "\u001b[1;31mMemoryError\u001b[0m                               Traceback (most recent call last)",
      "\u001b[1;32m<ipython-input-121-77102906e28a>\u001b[0m in \u001b[0;36m<module>\u001b[1;34m\u001b[0m\n\u001b[1;32m----> 1\u001b[1;33m \u001b[0mdata\u001b[0m \u001b[1;33m=\u001b[0m \u001b[0mpd\u001b[0m\u001b[1;33m.\u001b[0m\u001b[0mread_csv\u001b[0m\u001b[1;33m(\u001b[0m\u001b[1;34m'data_prepared.csv'\u001b[0m\u001b[1;33m)\u001b[0m\u001b[1;33m\u001b[0m\u001b[1;33m\u001b[0m\u001b[0m\n\u001b[0m\u001b[0;32m      2\u001b[0m \u001b[0mX_prep\u001b[0m \u001b[1;33m=\u001b[0m \u001b[0mdata\u001b[0m\u001b[1;33m.\u001b[0m\u001b[0miloc\u001b[0m\u001b[1;33m[\u001b[0m\u001b[1;33m:\u001b[0m\u001b[1;33m,\u001b[0m \u001b[0mdata\u001b[0m\u001b[1;33m.\u001b[0m\u001b[0mcolumns\u001b[0m \u001b[1;33m!=\u001b[0m \u001b[1;34m'isFraud'\u001b[0m\u001b[1;33m]\u001b[0m\u001b[1;33m\u001b[0m\u001b[1;33m\u001b[0m\u001b[0m\n\u001b[0;32m      3\u001b[0m \u001b[0my\u001b[0m \u001b[1;33m=\u001b[0m \u001b[0mdata\u001b[0m\u001b[1;33m[\u001b[0m\u001b[1;34m'isFraud'\u001b[0m\u001b[1;33m]\u001b[0m\u001b[1;33m\u001b[0m\u001b[1;33m\u001b[0m\u001b[0m\n",
      "\u001b[1;32m~\\AppData\\Roaming\\Python\\Python37\\site-packages\\pandas\\io\\parsers.py\u001b[0m in \u001b[0;36mread_csv\u001b[1;34m(filepath_or_buffer, sep, delimiter, header, names, index_col, usecols, squeeze, prefix, mangle_dupe_cols, dtype, engine, converters, true_values, false_values, skipinitialspace, skiprows, skipfooter, nrows, na_values, keep_default_na, na_filter, verbose, skip_blank_lines, parse_dates, infer_datetime_format, keep_date_col, date_parser, dayfirst, cache_dates, iterator, chunksize, compression, thousands, decimal, lineterminator, quotechar, quoting, doublequote, escapechar, comment, encoding, dialect, error_bad_lines, warn_bad_lines, delim_whitespace, low_memory, memory_map, float_precision, storage_options)\u001b[0m\n\u001b[0;32m    603\u001b[0m     \u001b[0mkwds\u001b[0m\u001b[1;33m.\u001b[0m\u001b[0mupdate\u001b[0m\u001b[1;33m(\u001b[0m\u001b[0mkwds_defaults\u001b[0m\u001b[1;33m)\u001b[0m\u001b[1;33m\u001b[0m\u001b[1;33m\u001b[0m\u001b[0m\n\u001b[0;32m    604\u001b[0m \u001b[1;33m\u001b[0m\u001b[0m\n\u001b[1;32m--> 605\u001b[1;33m     \u001b[1;32mreturn\u001b[0m \u001b[0m_read\u001b[0m\u001b[1;33m(\u001b[0m\u001b[0mfilepath_or_buffer\u001b[0m\u001b[1;33m,\u001b[0m \u001b[0mkwds\u001b[0m\u001b[1;33m)\u001b[0m\u001b[1;33m\u001b[0m\u001b[1;33m\u001b[0m\u001b[0m\n\u001b[0m\u001b[0;32m    606\u001b[0m \u001b[1;33m\u001b[0m\u001b[0m\n\u001b[0;32m    607\u001b[0m \u001b[1;33m\u001b[0m\u001b[0m\n",
      "\u001b[1;32m~\\AppData\\Roaming\\Python\\Python37\\site-packages\\pandas\\io\\parsers.py\u001b[0m in \u001b[0;36m_read\u001b[1;34m(filepath_or_buffer, kwds)\u001b[0m\n\u001b[0;32m    461\u001b[0m \u001b[1;33m\u001b[0m\u001b[0m\n\u001b[0;32m    462\u001b[0m     \u001b[1;32mwith\u001b[0m \u001b[0mparser\u001b[0m\u001b[1;33m:\u001b[0m\u001b[1;33m\u001b[0m\u001b[1;33m\u001b[0m\u001b[0m\n\u001b[1;32m--> 463\u001b[1;33m         \u001b[1;32mreturn\u001b[0m \u001b[0mparser\u001b[0m\u001b[1;33m.\u001b[0m\u001b[0mread\u001b[0m\u001b[1;33m(\u001b[0m\u001b[0mnrows\u001b[0m\u001b[1;33m)\u001b[0m\u001b[1;33m\u001b[0m\u001b[1;33m\u001b[0m\u001b[0m\n\u001b[0m\u001b[0;32m    464\u001b[0m \u001b[1;33m\u001b[0m\u001b[0m\n\u001b[0;32m    465\u001b[0m \u001b[1;33m\u001b[0m\u001b[0m\n",
      "\u001b[1;32m~\\AppData\\Roaming\\Python\\Python37\\site-packages\\pandas\\io\\parsers.py\u001b[0m in \u001b[0;36mread\u001b[1;34m(self, nrows)\u001b[0m\n\u001b[0;32m   1050\u001b[0m     \u001b[1;32mdef\u001b[0m \u001b[0mread\u001b[0m\u001b[1;33m(\u001b[0m\u001b[0mself\u001b[0m\u001b[1;33m,\u001b[0m \u001b[0mnrows\u001b[0m\u001b[1;33m=\u001b[0m\u001b[1;32mNone\u001b[0m\u001b[1;33m)\u001b[0m\u001b[1;33m:\u001b[0m\u001b[1;33m\u001b[0m\u001b[1;33m\u001b[0m\u001b[0m\n\u001b[0;32m   1051\u001b[0m         \u001b[0mnrows\u001b[0m \u001b[1;33m=\u001b[0m \u001b[0mvalidate_integer\u001b[0m\u001b[1;33m(\u001b[0m\u001b[1;34m\"nrows\"\u001b[0m\u001b[1;33m,\u001b[0m \u001b[0mnrows\u001b[0m\u001b[1;33m)\u001b[0m\u001b[1;33m\u001b[0m\u001b[1;33m\u001b[0m\u001b[0m\n\u001b[1;32m-> 1052\u001b[1;33m         \u001b[0mindex\u001b[0m\u001b[1;33m,\u001b[0m \u001b[0mcolumns\u001b[0m\u001b[1;33m,\u001b[0m \u001b[0mcol_dict\u001b[0m \u001b[1;33m=\u001b[0m \u001b[0mself\u001b[0m\u001b[1;33m.\u001b[0m\u001b[0m_engine\u001b[0m\u001b[1;33m.\u001b[0m\u001b[0mread\u001b[0m\u001b[1;33m(\u001b[0m\u001b[0mnrows\u001b[0m\u001b[1;33m)\u001b[0m\u001b[1;33m\u001b[0m\u001b[1;33m\u001b[0m\u001b[0m\n\u001b[0m\u001b[0;32m   1053\u001b[0m \u001b[1;33m\u001b[0m\u001b[0m\n\u001b[0;32m   1054\u001b[0m         \u001b[1;32mif\u001b[0m \u001b[0mindex\u001b[0m \u001b[1;32mis\u001b[0m \u001b[1;32mNone\u001b[0m\u001b[1;33m:\u001b[0m\u001b[1;33m\u001b[0m\u001b[1;33m\u001b[0m\u001b[0m\n",
      "\u001b[1;32m~\\AppData\\Roaming\\Python\\Python37\\site-packages\\pandas\\io\\parsers.py\u001b[0m in \u001b[0;36mread\u001b[1;34m(self, nrows)\u001b[0m\n\u001b[0;32m   2054\u001b[0m     \u001b[1;32mdef\u001b[0m \u001b[0mread\u001b[0m\u001b[1;33m(\u001b[0m\u001b[0mself\u001b[0m\u001b[1;33m,\u001b[0m \u001b[0mnrows\u001b[0m\u001b[1;33m=\u001b[0m\u001b[1;32mNone\u001b[0m\u001b[1;33m)\u001b[0m\u001b[1;33m:\u001b[0m\u001b[1;33m\u001b[0m\u001b[1;33m\u001b[0m\u001b[0m\n\u001b[0;32m   2055\u001b[0m         \u001b[1;32mtry\u001b[0m\u001b[1;33m:\u001b[0m\u001b[1;33m\u001b[0m\u001b[1;33m\u001b[0m\u001b[0m\n\u001b[1;32m-> 2056\u001b[1;33m             \u001b[0mdata\u001b[0m \u001b[1;33m=\u001b[0m \u001b[0mself\u001b[0m\u001b[1;33m.\u001b[0m\u001b[0m_reader\u001b[0m\u001b[1;33m.\u001b[0m\u001b[0mread\u001b[0m\u001b[1;33m(\u001b[0m\u001b[0mnrows\u001b[0m\u001b[1;33m)\u001b[0m\u001b[1;33m\u001b[0m\u001b[1;33m\u001b[0m\u001b[0m\n\u001b[0m\u001b[0;32m   2057\u001b[0m         \u001b[1;32mexcept\u001b[0m \u001b[0mStopIteration\u001b[0m\u001b[1;33m:\u001b[0m\u001b[1;33m\u001b[0m\u001b[1;33m\u001b[0m\u001b[0m\n\u001b[0;32m   2058\u001b[0m             \u001b[1;32mif\u001b[0m \u001b[0mself\u001b[0m\u001b[1;33m.\u001b[0m\u001b[0m_first_chunk\u001b[0m\u001b[1;33m:\u001b[0m\u001b[1;33m\u001b[0m\u001b[1;33m\u001b[0m\u001b[0m\n",
      "\u001b[1;32mpandas\\_libs\\parsers.pyx\u001b[0m in \u001b[0;36mpandas._libs.parsers.TextReader.read\u001b[1;34m()\u001b[0m\n",
      "\u001b[1;32mpandas\\_libs\\parsers.pyx\u001b[0m in \u001b[0;36mpandas._libs.parsers.TextReader._read_low_memory\u001b[1;34m()\u001b[0m\n",
      "\u001b[1;32mpandas\\_libs\\parsers.pyx\u001b[0m in \u001b[0;36mpandas._libs.parsers._concatenate_chunks\u001b[1;34m()\u001b[0m\n",
      "\u001b[1;32m<__array_function__ internals>\u001b[0m in \u001b[0;36mconcatenate\u001b[1;34m(*args, **kwargs)\u001b[0m\n",
      "\u001b[1;31mMemoryError\u001b[0m: Unable to allocate 6.00 MiB for an array with shape (786363,) and data type float64"
     ]
    }
   ],
   "source": [
    "data = pd.read_csv('data_prepared.csv')\n",
    "X_prep = data.iloc[:, data.columns != 'isFraud']\n",
    "y = data['isFraud']"
   ]
  },
  {
   "cell_type": "code",
   "execution_count": null,
   "metadata": {},
   "outputs": [],
   "source": [
    "X_other1, X_test1, y_other1, y_test1 = train_test_split(X_prep, y, stratify= y, test_size = 0.3, random_state = 42)\n",
    "\n",
    "param_grid = {\n",
    "    'xgbclassifier__scale_pos_weight':[1, 2, 3],\n",
    "#    'xgbclassifier__nthread':[2, 3],\n",
    " #   'xgbclassifier__max_depth':[2, 4],\n",
    " #   'xgbclassifier__booster': ['gbtree','dart'],\n",
    " #   'xgbclassifier__max_delta_step':[1, 3, 5]\n",
    "}\n",
    "xgb_grid = XGBClassifier(seed = 42)\n"
   ]
  },
  {
   "cell_type": "code",
   "execution_count": null,
   "metadata": {},
   "outputs": [],
   "source": [
    "grid = GridSearchCV(xgb_grid, param_grid=param_grid, scoring='f1',\n",
    "                        cv=3, return_train_score = True, n_jobs=-1, verbose=True)\n",
    "\n",
    "grid.fit(X_other1, y_other1)"
   ]
  },
  {
   "cell_type": "code",
   "execution_count": null,
   "metadata": {},
   "outputs": [],
   "source": [
    "pd.DataFrame(grid.cv_results_)"
   ]
  },
  {
   "cell_type": "code",
   "execution_count": null,
   "metadata": {},
   "outputs": [],
   "source": [
    "print('best model parameters:',grid.best_params_)\n",
    "print('validation score:',grid.best_score_) "
   ]
  },
  {
   "cell_type": "markdown",
   "metadata": {},
   "source": [
    "### Difficulties in gridseachCV method in XGBoost \n",
    "XGBoost runtime compare to random forest is low, adding gridsearchCV for searching best parameters is difficult due to my limitation of computing resources and low memory problem on laptop."
   ]
  },
  {
   "cell_type": "markdown",
   "metadata": {},
   "source": [
    "## Catboost -- better for categorical features"
   ]
  },
  {
   "cell_type": "code",
   "execution_count": 81,
   "metadata": {},
   "outputs": [],
   "source": [
    "data = data1\n",
    "data = data.drop(['transactionDateTime'], axis  = 1)"
   ]
  },
  {
   "cell_type": "code",
   "execution_count": 82,
   "metadata": {},
   "outputs": [],
   "source": [
    "data['accountNumber'] = data['accountNumber'].astype('float')   \n",
    "data['creditLimit'] = data['creditLimit'].astype('float')\n",
    "data['cardLast4Digits'] = data['cardLast4Digits'].astype('float')"
   ]
  },
  {
   "cell_type": "code",
   "execution_count": 83,
   "metadata": {},
   "outputs": [],
   "source": [
    "data = data.replace(np.nan, 'missing')"
   ]
  },
  {
   "cell_type": "code",
   "execution_count": 84,
   "metadata": {},
   "outputs": [],
   "source": [
    "X = data.iloc[:,data.columns != 'isFraud']\n",
    "y = data['isFraud']"
   ]
  },
  {
   "cell_type": "code",
   "execution_count": 85,
   "metadata": {},
   "outputs": [],
   "source": [
    "X_train, X_test, y_train, y_test = train_test_split(X, y, stratify= y, test_size = 0.4, random_state = 42, shuffle=True)"
   ]
  },
  {
   "cell_type": "markdown",
   "metadata": {},
   "source": [
    "### parameter 1"
   ]
  },
  {
   "cell_type": "code",
   "execution_count": 86,
   "metadata": {},
   "outputs": [],
   "source": [
    "categorical_features_indices = np.where(X_train.dtypes != np.float)[0]   #define categorical features pass to catboost\n",
    "cb = CatBoostClassifier(iterations=300, depth =6,\n",
    "                           cat_features= categorical_features_indices,\n",
    "                           learning_rate=0.3, loss_function='Logloss',\n",
    "                        class_weights = [0.14, 0.86],\n",
    "                            logging_level='Verbose')\n"
   ]
  },
  {
   "cell_type": "code",
   "execution_count": 87,
   "metadata": {
    "scrolled": true
   },
   "outputs": [
    {
     "name": "stdout",
     "output_type": "stream",
     "text": [
      "0:\tlearn: 0.4388359\ttotal: 650ms\tremaining: 3m 14s\n",
      "1:\tlearn: 0.3404339\ttotal: 1.1s\tremaining: 2m 43s\n",
      "2:\tlearn: 0.3037836\ttotal: 1.53s\tremaining: 2m 31s\n",
      "3:\tlearn: 0.2855170\ttotal: 1.96s\tremaining: 2m 25s\n",
      "4:\tlearn: 0.2761709\ttotal: 2.29s\tremaining: 2m 15s\n",
      "5:\tlearn: 0.2651180\ttotal: 2.72s\tremaining: 2m 13s\n",
      "6:\tlearn: 0.2586917\ttotal: 3.19s\tremaining: 2m 13s\n",
      "7:\tlearn: 0.2538055\ttotal: 3.81s\tremaining: 2m 18s\n",
      "8:\tlearn: 0.2511194\ttotal: 4.29s\tremaining: 2m 18s\n",
      "9:\tlearn: 0.2495226\ttotal: 4.76s\tremaining: 2m 17s\n",
      "10:\tlearn: 0.2486836\ttotal: 5.27s\tremaining: 2m 18s\n",
      "11:\tlearn: 0.2456461\ttotal: 5.76s\tremaining: 2m 18s\n",
      "12:\tlearn: 0.2442711\ttotal: 6.14s\tremaining: 2m 15s\n",
      "13:\tlearn: 0.2434285\ttotal: 6.69s\tremaining: 2m 16s\n",
      "14:\tlearn: 0.2421326\ttotal: 7.12s\tremaining: 2m 15s\n",
      "15:\tlearn: 0.2416506\ttotal: 7.58s\tremaining: 2m 14s\n",
      "16:\tlearn: 0.2413565\ttotal: 8.04s\tremaining: 2m 13s\n",
      "17:\tlearn: 0.2404844\ttotal: 8.44s\tremaining: 2m 12s\n",
      "18:\tlearn: 0.2400676\ttotal: 8.87s\tremaining: 2m 11s\n",
      "19:\tlearn: 0.2387218\ttotal: 9.24s\tremaining: 2m 9s\n",
      "20:\tlearn: 0.2383372\ttotal: 9.65s\tremaining: 2m 8s\n",
      "21:\tlearn: 0.2374235\ttotal: 10.1s\tremaining: 2m 7s\n",
      "22:\tlearn: 0.2369163\ttotal: 10.5s\tremaining: 2m 6s\n",
      "23:\tlearn: 0.2366322\ttotal: 10.9s\tremaining: 2m 4s\n",
      "24:\tlearn: 0.2361987\ttotal: 11.3s\tremaining: 2m 4s\n",
      "25:\tlearn: 0.2353112\ttotal: 11.7s\tremaining: 2m 3s\n",
      "26:\tlearn: 0.2346331\ttotal: 12.1s\tremaining: 2m 2s\n",
      "27:\tlearn: 0.2342747\ttotal: 12.5s\tremaining: 2m 1s\n",
      "28:\tlearn: 0.2333896\ttotal: 12.9s\tremaining: 2m\n",
      "29:\tlearn: 0.2332435\ttotal: 13.3s\tremaining: 1m 59s\n",
      "30:\tlearn: 0.2329807\ttotal: 13.7s\tremaining: 1m 58s\n",
      "31:\tlearn: 0.2306652\ttotal: 14.1s\tremaining: 1m 58s\n",
      "32:\tlearn: 0.2302182\ttotal: 14.5s\tremaining: 1m 57s\n",
      "33:\tlearn: 0.2289810\ttotal: 14.9s\tremaining: 1m 56s\n",
      "34:\tlearn: 0.2288377\ttotal: 15.4s\tremaining: 1m 56s\n",
      "35:\tlearn: 0.2272186\ttotal: 16s\tremaining: 1m 57s\n",
      "36:\tlearn: 0.2268711\ttotal: 16.5s\tremaining: 1m 57s\n",
      "37:\tlearn: 0.2266742\ttotal: 16.9s\tremaining: 1m 56s\n",
      "38:\tlearn: 0.2265148\ttotal: 17.4s\tremaining: 1m 56s\n",
      "39:\tlearn: 0.2262959\ttotal: 17.8s\tremaining: 1m 55s\n",
      "40:\tlearn: 0.2261650\ttotal: 18.2s\tremaining: 1m 55s\n",
      "41:\tlearn: 0.2254116\ttotal: 18.7s\tremaining: 1m 54s\n",
      "42:\tlearn: 0.2252821\ttotal: 19.1s\tremaining: 1m 54s\n",
      "43:\tlearn: 0.2241099\ttotal: 19.6s\tremaining: 1m 53s\n",
      "44:\tlearn: 0.2236778\ttotal: 20s\tremaining: 1m 53s\n",
      "45:\tlearn: 0.2231521\ttotal: 20.5s\tremaining: 1m 53s\n",
      "46:\tlearn: 0.2230058\ttotal: 20.9s\tremaining: 1m 52s\n",
      "47:\tlearn: 0.2225691\ttotal: 21.3s\tremaining: 1m 51s\n",
      "48:\tlearn: 0.2218242\ttotal: 21.7s\tremaining: 1m 51s\n",
      "49:\tlearn: 0.2214547\ttotal: 22.2s\tremaining: 1m 51s\n",
      "50:\tlearn: 0.2211126\ttotal: 22.7s\tremaining: 1m 50s\n",
      "51:\tlearn: 0.2209348\ttotal: 23.2s\tremaining: 1m 50s\n",
      "52:\tlearn: 0.2204588\ttotal: 23.7s\tremaining: 1m 50s\n",
      "53:\tlearn: 0.2202239\ttotal: 24.3s\tremaining: 1m 50s\n",
      "54:\tlearn: 0.2199499\ttotal: 24.8s\tremaining: 1m 50s\n",
      "55:\tlearn: 0.2197652\ttotal: 25.2s\tremaining: 1m 49s\n",
      "56:\tlearn: 0.2194728\ttotal: 25.6s\tremaining: 1m 49s\n",
      "57:\tlearn: 0.2189870\ttotal: 26.1s\tremaining: 1m 48s\n",
      "58:\tlearn: 0.2183263\ttotal: 26.6s\tremaining: 1m 48s\n",
      "59:\tlearn: 0.2176843\ttotal: 27.1s\tremaining: 1m 48s\n",
      "60:\tlearn: 0.2173305\ttotal: 27.6s\tremaining: 1m 48s\n",
      "61:\tlearn: 0.2171667\ttotal: 28.1s\tremaining: 1m 47s\n",
      "62:\tlearn: 0.2170365\ttotal: 28.5s\tremaining: 1m 47s\n",
      "63:\tlearn: 0.2167639\ttotal: 28.9s\tremaining: 1m 46s\n",
      "64:\tlearn: 0.2164588\ttotal: 29.3s\tremaining: 1m 45s\n",
      "65:\tlearn: 0.2162628\ttotal: 29.7s\tremaining: 1m 45s\n",
      "66:\tlearn: 0.2159145\ttotal: 30s\tremaining: 1m 44s\n",
      "67:\tlearn: 0.2155303\ttotal: 30.4s\tremaining: 1m 43s\n",
      "68:\tlearn: 0.2153826\ttotal: 30.8s\tremaining: 1m 43s\n",
      "69:\tlearn: 0.2148364\ttotal: 31.2s\tremaining: 1m 42s\n",
      "70:\tlearn: 0.2147255\ttotal: 31.6s\tremaining: 1m 41s\n",
      "71:\tlearn: 0.2145898\ttotal: 32s\tremaining: 1m 41s\n",
      "72:\tlearn: 0.2144644\ttotal: 32.5s\tremaining: 1m 40s\n",
      "73:\tlearn: 0.2141727\ttotal: 32.9s\tremaining: 1m 40s\n",
      "74:\tlearn: 0.2137335\ttotal: 33.3s\tremaining: 1m 39s\n",
      "75:\tlearn: 0.2136181\ttotal: 33.6s\tremaining: 1m 39s\n",
      "76:\tlearn: 0.2128642\ttotal: 34.1s\tremaining: 1m 38s\n",
      "77:\tlearn: 0.2125526\ttotal: 34.5s\tremaining: 1m 38s\n",
      "78:\tlearn: 0.2121846\ttotal: 35.1s\tremaining: 1m 38s\n",
      "79:\tlearn: 0.2120395\ttotal: 35.5s\tremaining: 1m 37s\n",
      "80:\tlearn: 0.2118385\ttotal: 35.9s\tremaining: 1m 37s\n",
      "81:\tlearn: 0.2117122\ttotal: 36.3s\tremaining: 1m 36s\n",
      "82:\tlearn: 0.2112925\ttotal: 36.6s\tremaining: 1m 35s\n",
      "83:\tlearn: 0.2110062\ttotal: 37s\tremaining: 1m 35s\n",
      "84:\tlearn: 0.2109047\ttotal: 37.5s\tremaining: 1m 34s\n",
      "85:\tlearn: 0.2106918\ttotal: 37.9s\tremaining: 1m 34s\n",
      "86:\tlearn: 0.2104458\ttotal: 38.4s\tremaining: 1m 34s\n",
      "87:\tlearn: 0.2102320\ttotal: 38.9s\tremaining: 1m 33s\n",
      "88:\tlearn: 0.2100195\ttotal: 39.3s\tremaining: 1m 33s\n",
      "89:\tlearn: 0.2098804\ttotal: 39.7s\tremaining: 1m 32s\n",
      "90:\tlearn: 0.2096299\ttotal: 40.1s\tremaining: 1m 32s\n",
      "91:\tlearn: 0.2094995\ttotal: 40.5s\tremaining: 1m 31s\n",
      "92:\tlearn: 0.2090677\ttotal: 41s\tremaining: 1m 31s\n",
      "93:\tlearn: 0.2089290\ttotal: 41.4s\tremaining: 1m 30s\n",
      "94:\tlearn: 0.2087564\ttotal: 41.9s\tremaining: 1m 30s\n",
      "95:\tlearn: 0.2085310\ttotal: 42.5s\tremaining: 1m 30s\n",
      "96:\tlearn: 0.2083601\ttotal: 43s\tremaining: 1m 29s\n",
      "97:\tlearn: 0.2081328\ttotal: 43.4s\tremaining: 1m 29s\n",
      "98:\tlearn: 0.2076761\ttotal: 44s\tremaining: 1m 29s\n",
      "99:\tlearn: 0.2075268\ttotal: 44.4s\tremaining: 1m 28s\n",
      "100:\tlearn: 0.2070816\ttotal: 44.9s\tremaining: 1m 28s\n",
      "101:\tlearn: 0.2068715\ttotal: 45.3s\tremaining: 1m 27s\n",
      "102:\tlearn: 0.2066518\ttotal: 45.7s\tremaining: 1m 27s\n",
      "103:\tlearn: 0.2065515\ttotal: 46.1s\tremaining: 1m 26s\n",
      "104:\tlearn: 0.2063339\ttotal: 46.5s\tremaining: 1m 26s\n",
      "105:\tlearn: 0.2061592\ttotal: 46.9s\tremaining: 1m 25s\n",
      "106:\tlearn: 0.2060978\ttotal: 47.3s\tremaining: 1m 25s\n",
      "107:\tlearn: 0.2058639\ttotal: 47.7s\tremaining: 1m 24s\n",
      "108:\tlearn: 0.2057258\ttotal: 48.2s\tremaining: 1m 24s\n",
      "109:\tlearn: 0.2052559\ttotal: 48.6s\tremaining: 1m 24s\n",
      "110:\tlearn: 0.2050146\ttotal: 49.1s\tremaining: 1m 23s\n",
      "111:\tlearn: 0.2049221\ttotal: 49.6s\tremaining: 1m 23s\n",
      "112:\tlearn: 0.2047442\ttotal: 50s\tremaining: 1m 22s\n",
      "113:\tlearn: 0.2045601\ttotal: 50.4s\tremaining: 1m 22s\n",
      "114:\tlearn: 0.2042628\ttotal: 50.8s\tremaining: 1m 21s\n",
      "115:\tlearn: 0.2042209\ttotal: 51.3s\tremaining: 1m 21s\n",
      "116:\tlearn: 0.2039742\ttotal: 51.7s\tremaining: 1m 20s\n",
      "117:\tlearn: 0.2038473\ttotal: 52.2s\tremaining: 1m 20s\n",
      "118:\tlearn: 0.2037079\ttotal: 52.6s\tremaining: 1m 20s\n",
      "119:\tlearn: 0.2034905\ttotal: 53s\tremaining: 1m 19s\n",
      "120:\tlearn: 0.2033668\ttotal: 53.4s\tremaining: 1m 19s\n",
      "121:\tlearn: 0.2031181\ttotal: 53.8s\tremaining: 1m 18s\n",
      "122:\tlearn: 0.2029566\ttotal: 54.3s\tremaining: 1m 18s\n",
      "123:\tlearn: 0.2026597\ttotal: 54.7s\tremaining: 1m 17s\n",
      "124:\tlearn: 0.2025478\ttotal: 55.2s\tremaining: 1m 17s\n",
      "125:\tlearn: 0.2023192\ttotal: 55.6s\tremaining: 1m 16s\n",
      "126:\tlearn: 0.2021814\ttotal: 56s\tremaining: 1m 16s\n",
      "127:\tlearn: 0.2019754\ttotal: 56.5s\tremaining: 1m 15s\n",
      "128:\tlearn: 0.2018335\ttotal: 57s\tremaining: 1m 15s\n",
      "129:\tlearn: 0.2017004\ttotal: 57.4s\tremaining: 1m 15s\n",
      "130:\tlearn: 0.2016406\ttotal: 57.8s\tremaining: 1m 14s\n",
      "131:\tlearn: 0.2015257\ttotal: 58.2s\tremaining: 1m 14s\n",
      "132:\tlearn: 0.2013835\ttotal: 58.7s\tremaining: 1m 13s\n",
      "133:\tlearn: 0.2011552\ttotal: 59.1s\tremaining: 1m 13s\n",
      "134:\tlearn: 0.2010103\ttotal: 59.6s\tremaining: 1m 12s\n",
      "135:\tlearn: 0.2009168\ttotal: 1m\tremaining: 1m 12s\n",
      "136:\tlearn: 0.2007549\ttotal: 1m\tremaining: 1m 12s\n",
      "137:\tlearn: 0.2005785\ttotal: 1m\tremaining: 1m 11s\n",
      "138:\tlearn: 0.2004430\ttotal: 1m 1s\tremaining: 1m 11s\n",
      "139:\tlearn: 0.2002922\ttotal: 1m 1s\tremaining: 1m 10s\n",
      "140:\tlearn: 0.1999994\ttotal: 1m 2s\tremaining: 1m 10s\n",
      "141:\tlearn: 0.1997565\ttotal: 1m 2s\tremaining: 1m 9s\n",
      "142:\tlearn: 0.1996868\ttotal: 1m 3s\tremaining: 1m 9s\n",
      "143:\tlearn: 0.1994388\ttotal: 1m 3s\tremaining: 1m 9s\n",
      "144:\tlearn: 0.1992616\ttotal: 1m 4s\tremaining: 1m 8s\n",
      "145:\tlearn: 0.1990775\ttotal: 1m 4s\tremaining: 1m 8s\n",
      "146:\tlearn: 0.1987179\ttotal: 1m 5s\tremaining: 1m 7s\n",
      "147:\tlearn: 0.1982989\ttotal: 1m 5s\tremaining: 1m 7s\n",
      "148:\tlearn: 0.1981596\ttotal: 1m 6s\tremaining: 1m 6s\n",
      "149:\tlearn: 0.1979612\ttotal: 1m 6s\tremaining: 1m 6s\n",
      "150:\tlearn: 0.1978057\ttotal: 1m 6s\tremaining: 1m 5s\n",
      "151:\tlearn: 0.1976193\ttotal: 1m 7s\tremaining: 1m 5s\n",
      "152:\tlearn: 0.1974103\ttotal: 1m 7s\tremaining: 1m 5s\n",
      "153:\tlearn: 0.1972487\ttotal: 1m 8s\tremaining: 1m 4s\n",
      "154:\tlearn: 0.1969862\ttotal: 1m 8s\tremaining: 1m 4s\n",
      "155:\tlearn: 0.1967455\ttotal: 1m 9s\tremaining: 1m 3s\n",
      "156:\tlearn: 0.1966583\ttotal: 1m 9s\tremaining: 1m 3s\n",
      "157:\tlearn: 0.1964640\ttotal: 1m 9s\tremaining: 1m 2s\n",
      "158:\tlearn: 0.1962975\ttotal: 1m 10s\tremaining: 1m 2s\n",
      "159:\tlearn: 0.1961942\ttotal: 1m 10s\tremaining: 1m 1s\n",
      "160:\tlearn: 0.1961077\ttotal: 1m 11s\tremaining: 1m 1s\n",
      "161:\tlearn: 0.1959715\ttotal: 1m 11s\tremaining: 1m 1s\n",
      "162:\tlearn: 0.1958330\ttotal: 1m 12s\tremaining: 1m\n",
      "163:\tlearn: 0.1956681\ttotal: 1m 12s\tremaining: 1m\n",
      "164:\tlearn: 0.1954983\ttotal: 1m 13s\tremaining: 59.8s\n",
      "165:\tlearn: 0.1953017\ttotal: 1m 13s\tremaining: 59.3s\n",
      "166:\tlearn: 0.1951630\ttotal: 1m 13s\tremaining: 58.8s\n",
      "167:\tlearn: 0.1949348\ttotal: 1m 14s\tremaining: 58.4s\n",
      "168:\tlearn: 0.1948903\ttotal: 1m 14s\tremaining: 57.9s\n",
      "169:\tlearn: 0.1948122\ttotal: 1m 15s\tremaining: 57.5s\n",
      "170:\tlearn: 0.1946474\ttotal: 1m 15s\tremaining: 57.1s\n",
      "171:\tlearn: 0.1944877\ttotal: 1m 16s\tremaining: 56.6s\n",
      "172:\tlearn: 0.1940336\ttotal: 1m 16s\tremaining: 56.2s\n",
      "173:\tlearn: 0.1939533\ttotal: 1m 16s\tremaining: 55.7s\n",
      "174:\tlearn: 0.1938004\ttotal: 1m 17s\tremaining: 55.3s\n",
      "175:\tlearn: 0.1936991\ttotal: 1m 17s\tremaining: 54.9s\n",
      "176:\tlearn: 0.1935183\ttotal: 1m 18s\tremaining: 54.4s\n",
      "177:\tlearn: 0.1932574\ttotal: 1m 18s\tremaining: 54s\n",
      "178:\tlearn: 0.1930174\ttotal: 1m 19s\tremaining: 53.5s\n",
      "179:\tlearn: 0.1928458\ttotal: 1m 19s\tremaining: 53.1s\n",
      "180:\tlearn: 0.1926581\ttotal: 1m 20s\tremaining: 52.6s\n",
      "181:\tlearn: 0.1924933\ttotal: 1m 20s\tremaining: 52.2s\n",
      "182:\tlearn: 0.1921852\ttotal: 1m 20s\tremaining: 51.8s\n",
      "183:\tlearn: 0.1921030\ttotal: 1m 21s\tremaining: 51.3s\n",
      "184:\tlearn: 0.1917385\ttotal: 1m 21s\tremaining: 50.9s\n",
      "185:\tlearn: 0.1916658\ttotal: 1m 22s\tremaining: 50.4s\n",
      "186:\tlearn: 0.1915319\ttotal: 1m 22s\tremaining: 50s\n",
      "187:\tlearn: 0.1913746\ttotal: 1m 23s\tremaining: 49.6s\n",
      "188:\tlearn: 0.1911335\ttotal: 1m 23s\tremaining: 49.1s\n",
      "189:\tlearn: 0.1909223\ttotal: 1m 24s\tremaining: 48.6s\n",
      "190:\tlearn: 0.1908205\ttotal: 1m 24s\tremaining: 48.2s\n",
      "191:\tlearn: 0.1906293\ttotal: 1m 24s\tremaining: 47.7s\n",
      "192:\tlearn: 0.1904537\ttotal: 1m 25s\tremaining: 47.3s\n",
      "193:\tlearn: 0.1903940\ttotal: 1m 25s\tremaining: 46.8s\n",
      "194:\tlearn: 0.1902464\ttotal: 1m 26s\tremaining: 46.4s\n",
      "195:\tlearn: 0.1901085\ttotal: 1m 26s\tremaining: 46s\n",
      "196:\tlearn: 0.1900374\ttotal: 1m 27s\tremaining: 45.6s\n",
      "197:\tlearn: 0.1898706\ttotal: 1m 27s\tremaining: 45.3s\n",
      "198:\tlearn: 0.1897794\ttotal: 1m 28s\tremaining: 44.8s\n",
      "199:\tlearn: 0.1896305\ttotal: 1m 28s\tremaining: 44.4s\n",
      "200:\tlearn: 0.1895049\ttotal: 1m 29s\tremaining: 43.9s\n",
      "201:\tlearn: 0.1893289\ttotal: 1m 29s\tremaining: 43.5s\n",
      "202:\tlearn: 0.1891395\ttotal: 1m 30s\tremaining: 43.1s\n",
      "203:\tlearn: 0.1889684\ttotal: 1m 30s\tremaining: 42.6s\n",
      "204:\tlearn: 0.1887945\ttotal: 1m 31s\tremaining: 42.2s\n",
      "205:\tlearn: 0.1884805\ttotal: 1m 31s\tremaining: 41.8s\n",
      "206:\tlearn: 0.1883146\ttotal: 1m 32s\tremaining: 41.4s\n",
      "207:\tlearn: 0.1881503\ttotal: 1m 32s\tremaining: 41s\n",
      "208:\tlearn: 0.1879867\ttotal: 1m 33s\tremaining: 40.5s\n",
      "209:\tlearn: 0.1878247\ttotal: 1m 33s\tremaining: 40s\n",
      "210:\tlearn: 0.1873727\ttotal: 1m 33s\tremaining: 39.6s\n",
      "211:\tlearn: 0.1872704\ttotal: 1m 34s\tremaining: 39.2s\n",
      "212:\tlearn: 0.1867823\ttotal: 1m 34s\tremaining: 38.7s\n",
      "213:\tlearn: 0.1866547\ttotal: 1m 35s\tremaining: 38.3s\n",
      "214:\tlearn: 0.1864981\ttotal: 1m 35s\tremaining: 37.8s\n",
      "215:\tlearn: 0.1861253\ttotal: 1m 36s\tremaining: 37.4s\n",
      "216:\tlearn: 0.1859768\ttotal: 1m 36s\tremaining: 36.9s\n",
      "217:\tlearn: 0.1858328\ttotal: 1m 36s\tremaining: 36.4s\n",
      "218:\tlearn: 0.1857302\ttotal: 1m 37s\tremaining: 36s\n",
      "219:\tlearn: 0.1856017\ttotal: 1m 37s\tremaining: 35.6s\n",
      "220:\tlearn: 0.1852547\ttotal: 1m 38s\tremaining: 35.1s\n",
      "221:\tlearn: 0.1850256\ttotal: 1m 38s\tremaining: 34.7s\n",
      "222:\tlearn: 0.1848854\ttotal: 1m 39s\tremaining: 34.2s\n",
      "223:\tlearn: 0.1847329\ttotal: 1m 39s\tremaining: 33.8s\n",
      "224:\tlearn: 0.1846171\ttotal: 1m 39s\tremaining: 33.3s\n",
      "225:\tlearn: 0.1844963\ttotal: 1m 40s\tremaining: 32.9s\n",
      "226:\tlearn: 0.1842874\ttotal: 1m 40s\tremaining: 32.4s\n",
      "227:\tlearn: 0.1841186\ttotal: 1m 41s\tremaining: 32s\n",
      "228:\tlearn: 0.1839920\ttotal: 1m 41s\tremaining: 31.5s\n",
      "229:\tlearn: 0.1838141\ttotal: 1m 42s\tremaining: 31.1s\n",
      "230:\tlearn: 0.1837087\ttotal: 1m 42s\tremaining: 30.6s\n",
      "231:\tlearn: 0.1835365\ttotal: 1m 43s\tremaining: 30.2s\n",
      "232:\tlearn: 0.1834399\ttotal: 1m 43s\tremaining: 29.8s\n",
      "233:\tlearn: 0.1833802\ttotal: 1m 43s\tremaining: 29.3s\n",
      "234:\tlearn: 0.1832559\ttotal: 1m 44s\tremaining: 28.9s\n",
      "235:\tlearn: 0.1830982\ttotal: 1m 44s\tremaining: 28.4s\n",
      "236:\tlearn: 0.1829401\ttotal: 1m 45s\tremaining: 28s\n",
      "237:\tlearn: 0.1828408\ttotal: 1m 45s\tremaining: 27.5s\n",
      "238:\tlearn: 0.1825123\ttotal: 1m 46s\tremaining: 27.1s\n",
      "239:\tlearn: 0.1823317\ttotal: 1m 46s\tremaining: 26.6s\n",
      "240:\tlearn: 0.1821977\ttotal: 1m 46s\tremaining: 26.2s\n",
      "241:\tlearn: 0.1820550\ttotal: 1m 47s\tremaining: 25.7s\n",
      "242:\tlearn: 0.1818779\ttotal: 1m 47s\tremaining: 25.3s\n",
      "243:\tlearn: 0.1816972\ttotal: 1m 48s\tremaining: 24.8s\n",
      "244:\tlearn: 0.1815664\ttotal: 1m 48s\tremaining: 24.4s\n",
      "245:\tlearn: 0.1813796\ttotal: 1m 49s\tremaining: 23.9s\n",
      "246:\tlearn: 0.1812445\ttotal: 1m 49s\tremaining: 23.5s\n",
      "247:\tlearn: 0.1811347\ttotal: 1m 49s\tremaining: 23s\n",
      "248:\tlearn: 0.1809494\ttotal: 1m 50s\tremaining: 22.6s\n",
      "249:\tlearn: 0.1808868\ttotal: 1m 50s\tremaining: 22.2s\n",
      "250:\tlearn: 0.1807367\ttotal: 1m 51s\tremaining: 21.7s\n",
      "251:\tlearn: 0.1805829\ttotal: 1m 51s\tremaining: 21.3s\n",
      "252:\tlearn: 0.1804247\ttotal: 1m 52s\tremaining: 20.8s\n",
      "253:\tlearn: 0.1803185\ttotal: 1m 52s\tremaining: 20.4s\n",
      "254:\tlearn: 0.1801428\ttotal: 1m 53s\tremaining: 19.9s\n",
      "255:\tlearn: 0.1800321\ttotal: 1m 53s\tremaining: 19.5s\n",
      "256:\tlearn: 0.1799034\ttotal: 1m 53s\tremaining: 19s\n",
      "257:\tlearn: 0.1797203\ttotal: 1m 54s\tremaining: 18.6s\n",
      "258:\tlearn: 0.1795187\ttotal: 1m 54s\tremaining: 18.2s\n",
      "259:\tlearn: 0.1794636\ttotal: 1m 55s\tremaining: 17.7s\n",
      "260:\tlearn: 0.1792743\ttotal: 1m 55s\tremaining: 17.3s\n",
      "261:\tlearn: 0.1790093\ttotal: 1m 56s\tremaining: 16.8s\n",
      "262:\tlearn: 0.1788779\ttotal: 1m 56s\tremaining: 16.4s\n",
      "263:\tlearn: 0.1787947\ttotal: 1m 56s\tremaining: 15.9s\n",
      "264:\tlearn: 0.1786463\ttotal: 1m 57s\tremaining: 15.5s\n",
      "265:\tlearn: 0.1784634\ttotal: 1m 57s\tremaining: 15.1s\n",
      "266:\tlearn: 0.1782857\ttotal: 1m 58s\tremaining: 14.6s\n",
      "267:\tlearn: 0.1781797\ttotal: 1m 58s\tremaining: 14.2s\n",
      "268:\tlearn: 0.1780290\ttotal: 1m 59s\tremaining: 13.7s\n",
      "269:\tlearn: 0.1778781\ttotal: 1m 59s\tremaining: 13.3s\n",
      "270:\tlearn: 0.1776215\ttotal: 1m 59s\tremaining: 12.8s\n",
      "271:\tlearn: 0.1772650\ttotal: 2m\tremaining: 12.4s\n",
      "272:\tlearn: 0.1771443\ttotal: 2m\tremaining: 11.9s\n",
      "273:\tlearn: 0.1769946\ttotal: 2m 1s\tremaining: 11.5s\n",
      "274:\tlearn: 0.1769255\ttotal: 2m 1s\tremaining: 11.1s\n",
      "275:\tlearn: 0.1767327\ttotal: 2m 2s\tremaining: 10.6s\n",
      "276:\tlearn: 0.1765968\ttotal: 2m 2s\tremaining: 10.2s\n",
      "277:\tlearn: 0.1764687\ttotal: 2m 2s\tremaining: 9.72s\n",
      "278:\tlearn: 0.1763620\ttotal: 2m 3s\tremaining: 9.28s\n",
      "279:\tlearn: 0.1762896\ttotal: 2m 3s\tremaining: 8.84s\n",
      "280:\tlearn: 0.1761507\ttotal: 2m 4s\tremaining: 8.4s\n",
      "281:\tlearn: 0.1760328\ttotal: 2m 4s\tremaining: 7.96s\n",
      "282:\tlearn: 0.1759428\ttotal: 2m 5s\tremaining: 7.52s\n",
      "283:\tlearn: 0.1758296\ttotal: 2m 5s\tremaining: 7.07s\n",
      "284:\tlearn: 0.1757061\ttotal: 2m 5s\tremaining: 6.63s\n",
      "285:\tlearn: 0.1755461\ttotal: 2m 6s\tremaining: 6.19s\n",
      "286:\tlearn: 0.1754343\ttotal: 2m 6s\tremaining: 5.75s\n",
      "287:\tlearn: 0.1753596\ttotal: 2m 7s\tremaining: 5.3s\n",
      "288:\tlearn: 0.1752640\ttotal: 2m 7s\tremaining: 4.86s\n",
      "289:\tlearn: 0.1751418\ttotal: 2m 8s\tremaining: 4.42s\n",
      "290:\tlearn: 0.1750119\ttotal: 2m 8s\tremaining: 3.98s\n",
      "291:\tlearn: 0.1747767\ttotal: 2m 8s\tremaining: 3.53s\n",
      "292:\tlearn: 0.1746752\ttotal: 2m 9s\tremaining: 3.09s\n",
      "293:\tlearn: 0.1745537\ttotal: 2m 9s\tremaining: 2.65s\n",
      "294:\tlearn: 0.1743585\ttotal: 2m 10s\tremaining: 2.21s\n",
      "295:\tlearn: 0.1742818\ttotal: 2m 10s\tremaining: 1.77s\n",
      "296:\tlearn: 0.1740883\ttotal: 2m 11s\tremaining: 1.32s\n",
      "297:\tlearn: 0.1739101\ttotal: 2m 11s\tremaining: 884ms\n",
      "298:\tlearn: 0.1738103\ttotal: 2m 12s\tremaining: 442ms\n",
      "299:\tlearn: 0.1737173\ttotal: 2m 12s\tremaining: 0us\n"
     ]
    },
    {
     "data": {
      "text/plain": [
       "<catboost.core.CatBoostClassifier at 0x1f75adc4a08>"
      ]
     },
     "execution_count": 87,
     "metadata": {},
     "output_type": "execute_result"
    }
   ],
   "source": [
    "cb.fit(X_train, y_train, \n",
    "       cat_features= categorical_features_indices)"
   ]
  },
  {
   "cell_type": "code",
   "execution_count": 88,
   "metadata": {},
   "outputs": [],
   "source": [
    "y_pred = cb.predict(X_test)"
   ]
  },
  {
   "cell_type": "code",
   "execution_count": 89,
   "metadata": {},
   "outputs": [
    {
     "name": "stdout",
     "output_type": "stream",
     "text": [
      "F1 score is  0.30007\n",
      "Accuracy is  0.98339\n",
      "roc auc score is  0.6105\n"
     ]
    }
   ],
   "source": [
    "y_pred = cb.predict(X_test)\n",
    "print(\"F1 score is \", np.round(f1_score(y_test, y_pred), 5))\n",
    "print(\"Accuracy is \", np.round(accuracy_score(y_test, y_pred), 5))\n",
    "print(\"roc auc score is \", np.round(roc_auc_score(y_test, y_pred),4))"
   ]
  },
  {
   "cell_type": "code",
   "execution_count": 90,
   "metadata": {},
   "outputs": [
    {
     "data": {
      "text/plain": [
       "array([[308201,   1378],\n",
       "       [  3847,   1120]], dtype=int64)"
      ]
     },
     "execution_count": 90,
     "metadata": {},
     "output_type": "execute_result"
    }
   ],
   "source": [
    "confusion_matrix(y_test, y_pred)"
   ]
  },
  {
   "cell_type": "markdown",
   "metadata": {},
   "source": [
    "### parameter 2"
   ]
  },
  {
   "cell_type": "code",
   "execution_count": 91,
   "metadata": {
    "scrolled": true
   },
   "outputs": [
    {
     "name": "stdout",
     "output_type": "stream",
     "text": [
      "0:\tlearn: 0.3977798\ttotal: 443ms\tremaining: 2m 12s\n",
      "1:\tlearn: 0.2954799\ttotal: 892ms\tremaining: 2m 12s\n",
      "2:\tlearn: 0.2537299\ttotal: 1.41s\tremaining: 2m 19s\n",
      "3:\tlearn: 0.2318021\ttotal: 1.79s\tremaining: 2m 12s\n",
      "4:\tlearn: 0.2223707\ttotal: 2.26s\tremaining: 2m 13s\n",
      "5:\tlearn: 0.2164703\ttotal: 2.75s\tremaining: 2m 14s\n",
      "6:\tlearn: 0.2120942\ttotal: 3.22s\tremaining: 2m 14s\n",
      "7:\tlearn: 0.2091235\ttotal: 3.69s\tremaining: 2m 14s\n",
      "8:\tlearn: 0.2078875\ttotal: 4.11s\tremaining: 2m 12s\n",
      "9:\tlearn: 0.2060914\ttotal: 4.78s\tremaining: 2m 18s\n",
      "10:\tlearn: 0.2053684\ttotal: 5.25s\tremaining: 2m 18s\n",
      "11:\tlearn: 0.2033440\ttotal: 5.75s\tremaining: 2m 18s\n",
      "12:\tlearn: 0.2019379\ttotal: 6.25s\tremaining: 2m 17s\n",
      "13:\tlearn: 0.2014314\ttotal: 6.77s\tremaining: 2m 18s\n",
      "14:\tlearn: 0.2011233\ttotal: 7.18s\tremaining: 2m 16s\n",
      "15:\tlearn: 0.1970179\ttotal: 7.69s\tremaining: 2m 16s\n",
      "16:\tlearn: 0.1936577\ttotal: 8.25s\tremaining: 2m 17s\n",
      "17:\tlearn: 0.1923614\ttotal: 8.81s\tremaining: 2m 18s\n",
      "18:\tlearn: 0.1918182\ttotal: 9.32s\tremaining: 2m 17s\n",
      "19:\tlearn: 0.1912462\ttotal: 9.84s\tremaining: 2m 17s\n",
      "20:\tlearn: 0.1910230\ttotal: 10.4s\tremaining: 2m 17s\n",
      "21:\tlearn: 0.1898962\ttotal: 10.9s\tremaining: 2m 17s\n",
      "22:\tlearn: 0.1895905\ttotal: 11.3s\tremaining: 2m 16s\n",
      "23:\tlearn: 0.1888856\ttotal: 11.8s\tremaining: 2m 15s\n",
      "24:\tlearn: 0.1883207\ttotal: 12.3s\tremaining: 2m 15s\n",
      "25:\tlearn: 0.1879147\ttotal: 12.8s\tremaining: 2m 14s\n",
      "26:\tlearn: 0.1872744\ttotal: 13.3s\tremaining: 2m 14s\n",
      "27:\tlearn: 0.1866440\ttotal: 13.8s\tremaining: 2m 14s\n",
      "28:\tlearn: 0.1861394\ttotal: 14.3s\tremaining: 2m 14s\n",
      "29:\tlearn: 0.1860140\ttotal: 14.8s\tremaining: 2m 13s\n",
      "30:\tlearn: 0.1856171\ttotal: 15.3s\tremaining: 2m 13s\n",
      "31:\tlearn: 0.1855541\ttotal: 15.8s\tremaining: 2m 12s\n",
      "32:\tlearn: 0.1842735\ttotal: 16.4s\tremaining: 2m 12s\n",
      "33:\tlearn: 0.1834535\ttotal: 16.9s\tremaining: 2m 12s\n",
      "34:\tlearn: 0.1830996\ttotal: 17.3s\tremaining: 2m 10s\n",
      "35:\tlearn: 0.1829233\ttotal: 17.8s\tremaining: 2m 10s\n",
      "36:\tlearn: 0.1824246\ttotal: 18.3s\tremaining: 2m 9s\n",
      "37:\tlearn: 0.1823421\ttotal: 18.8s\tremaining: 2m 9s\n",
      "38:\tlearn: 0.1817871\ttotal: 19.3s\tremaining: 2m 9s\n",
      "39:\tlearn: 0.1812241\ttotal: 19.7s\tremaining: 2m 8s\n",
      "40:\tlearn: 0.1810305\ttotal: 20.2s\tremaining: 2m 7s\n",
      "41:\tlearn: 0.1807844\ttotal: 20.8s\tremaining: 2m 7s\n",
      "42:\tlearn: 0.1805725\ttotal: 21.3s\tremaining: 2m 7s\n",
      "43:\tlearn: 0.1803900\ttotal: 21.8s\tremaining: 2m 6s\n",
      "44:\tlearn: 0.1803274\ttotal: 22.2s\tremaining: 2m 6s\n",
      "45:\tlearn: 0.1798779\ttotal: 22.7s\tremaining: 2m 5s\n",
      "46:\tlearn: 0.1790306\ttotal: 23.3s\tremaining: 2m 5s\n",
      "47:\tlearn: 0.1785886\ttotal: 23.8s\tremaining: 2m 5s\n",
      "48:\tlearn: 0.1784290\ttotal: 24.4s\tremaining: 2m 4s\n",
      "49:\tlearn: 0.1779527\ttotal: 25s\tremaining: 2m 4s\n",
      "50:\tlearn: 0.1773459\ttotal: 25.6s\tremaining: 2m 4s\n",
      "51:\tlearn: 0.1770967\ttotal: 26.1s\tremaining: 2m 4s\n",
      "52:\tlearn: 0.1763198\ttotal: 26.7s\tremaining: 2m 4s\n",
      "53:\tlearn: 0.1760812\ttotal: 27.4s\tremaining: 2m 4s\n",
      "54:\tlearn: 0.1759146\ttotal: 27.9s\tremaining: 2m 4s\n",
      "55:\tlearn: 0.1756983\ttotal: 28.4s\tremaining: 2m 3s\n",
      "56:\tlearn: 0.1755559\ttotal: 28.9s\tremaining: 2m 2s\n",
      "57:\tlearn: 0.1753845\ttotal: 29.4s\tremaining: 2m 2s\n",
      "58:\tlearn: 0.1753575\ttotal: 29.9s\tremaining: 2m 1s\n",
      "59:\tlearn: 0.1751812\ttotal: 30.3s\tremaining: 2m 1s\n",
      "60:\tlearn: 0.1750009\ttotal: 30.8s\tremaining: 2m\n",
      "61:\tlearn: 0.1748634\ttotal: 31.2s\tremaining: 1m 59s\n",
      "62:\tlearn: 0.1747490\ttotal: 31.7s\tremaining: 1m 59s\n",
      "63:\tlearn: 0.1745508\ttotal: 32.2s\tremaining: 1m 58s\n",
      "64:\tlearn: 0.1744213\ttotal: 32.8s\tremaining: 1m 58s\n",
      "65:\tlearn: 0.1741414\ttotal: 33.2s\tremaining: 1m 57s\n",
      "66:\tlearn: 0.1738426\ttotal: 33.7s\tremaining: 1m 57s\n",
      "67:\tlearn: 0.1730818\ttotal: 34.3s\tremaining: 1m 56s\n",
      "68:\tlearn: 0.1726035\ttotal: 34.8s\tremaining: 1m 56s\n",
      "69:\tlearn: 0.1725025\ttotal: 35.3s\tremaining: 1m 56s\n",
      "70:\tlearn: 0.1723127\ttotal: 35.8s\tremaining: 1m 55s\n",
      "71:\tlearn: 0.1717531\ttotal: 36.3s\tremaining: 1m 54s\n",
      "72:\tlearn: 0.1714463\ttotal: 36.8s\tremaining: 1m 54s\n",
      "73:\tlearn: 0.1712955\ttotal: 37.3s\tremaining: 1m 54s\n",
      "74:\tlearn: 0.1711561\ttotal: 37.9s\tremaining: 1m 53s\n",
      "75:\tlearn: 0.1709453\ttotal: 38.4s\tremaining: 1m 53s\n",
      "76:\tlearn: 0.1707338\ttotal: 38.8s\tremaining: 1m 52s\n",
      "77:\tlearn: 0.1703127\ttotal: 39.4s\tremaining: 1m 52s\n",
      "78:\tlearn: 0.1702494\ttotal: 39.9s\tremaining: 1m 51s\n",
      "79:\tlearn: 0.1701495\ttotal: 40.5s\tremaining: 1m 51s\n",
      "80:\tlearn: 0.1700298\ttotal: 40.9s\tremaining: 1m 50s\n",
      "81:\tlearn: 0.1698988\ttotal: 41.4s\tremaining: 1m 50s\n",
      "82:\tlearn: 0.1698272\ttotal: 41.9s\tremaining: 1m 49s\n",
      "83:\tlearn: 0.1696864\ttotal: 42.4s\tremaining: 1m 49s\n",
      "84:\tlearn: 0.1694640\ttotal: 42.9s\tremaining: 1m 48s\n",
      "85:\tlearn: 0.1693940\ttotal: 43.4s\tremaining: 1m 48s\n",
      "86:\tlearn: 0.1692123\ttotal: 43.9s\tremaining: 1m 47s\n",
      "87:\tlearn: 0.1690363\ttotal: 44.4s\tremaining: 1m 46s\n",
      "88:\tlearn: 0.1687571\ttotal: 44.9s\tremaining: 1m 46s\n",
      "89:\tlearn: 0.1686121\ttotal: 45.4s\tremaining: 1m 45s\n",
      "90:\tlearn: 0.1683419\ttotal: 45.9s\tremaining: 1m 45s\n",
      "91:\tlearn: 0.1682686\ttotal: 46.3s\tremaining: 1m 44s\n",
      "92:\tlearn: 0.1681708\ttotal: 47s\tremaining: 1m 44s\n",
      "93:\tlearn: 0.1677997\ttotal: 47.6s\tremaining: 1m 44s\n",
      "94:\tlearn: 0.1677042\ttotal: 48.2s\tremaining: 1m 44s\n",
      "95:\tlearn: 0.1675166\ttotal: 48.9s\tremaining: 1m 43s\n",
      "96:\tlearn: 0.1672178\ttotal: 49.5s\tremaining: 1m 43s\n",
      "97:\tlearn: 0.1670969\ttotal: 50.1s\tremaining: 1m 43s\n",
      "98:\tlearn: 0.1670338\ttotal: 50.5s\tremaining: 1m 42s\n",
      "99:\tlearn: 0.1669807\ttotal: 50.9s\tremaining: 1m 41s\n",
      "100:\tlearn: 0.1668372\ttotal: 51.4s\tremaining: 1m 41s\n",
      "101:\tlearn: 0.1668128\ttotal: 51.8s\tremaining: 1m 40s\n",
      "102:\tlearn: 0.1665643\ttotal: 52.2s\tremaining: 1m 39s\n",
      "103:\tlearn: 0.1663272\ttotal: 52.7s\tremaining: 1m 39s\n",
      "104:\tlearn: 0.1662354\ttotal: 53.1s\tremaining: 1m 38s\n",
      "105:\tlearn: 0.1661199\ttotal: 53.6s\tremaining: 1m 38s\n",
      "106:\tlearn: 0.1659325\ttotal: 54s\tremaining: 1m 37s\n",
      "107:\tlearn: 0.1657497\ttotal: 54.5s\tremaining: 1m 36s\n",
      "108:\tlearn: 0.1656726\ttotal: 54.9s\tremaining: 1m 36s\n",
      "109:\tlearn: 0.1656010\ttotal: 55.4s\tremaining: 1m 35s\n",
      "110:\tlearn: 0.1654483\ttotal: 55.9s\tremaining: 1m 35s\n",
      "111:\tlearn: 0.1653957\ttotal: 56.4s\tremaining: 1m 34s\n",
      "112:\tlearn: 0.1653250\ttotal: 56.9s\tremaining: 1m 34s\n",
      "113:\tlearn: 0.1652593\ttotal: 57.4s\tremaining: 1m 33s\n",
      "114:\tlearn: 0.1651695\ttotal: 57.9s\tremaining: 1m 33s\n",
      "115:\tlearn: 0.1650156\ttotal: 58.4s\tremaining: 1m 32s\n",
      "116:\tlearn: 0.1648494\ttotal: 58.9s\tremaining: 1m 32s\n",
      "117:\tlearn: 0.1646418\ttotal: 59.4s\tremaining: 1m 31s\n",
      "118:\tlearn: 0.1644640\ttotal: 59.8s\tremaining: 1m 31s\n",
      "119:\tlearn: 0.1644208\ttotal: 1m\tremaining: 1m 30s\n",
      "120:\tlearn: 0.1643106\ttotal: 1m\tremaining: 1m 29s\n",
      "121:\tlearn: 0.1641529\ttotal: 1m 1s\tremaining: 1m 29s\n",
      "122:\tlearn: 0.1639949\ttotal: 1m 1s\tremaining: 1m 28s\n",
      "123:\tlearn: 0.1638790\ttotal: 1m 2s\tremaining: 1m 28s\n",
      "124:\tlearn: 0.1637072\ttotal: 1m 2s\tremaining: 1m 27s\n",
      "125:\tlearn: 0.1635854\ttotal: 1m 3s\tremaining: 1m 27s\n",
      "126:\tlearn: 0.1634277\ttotal: 1m 3s\tremaining: 1m 26s\n",
      "127:\tlearn: 0.1632398\ttotal: 1m 3s\tremaining: 1m 25s\n",
      "128:\tlearn: 0.1631573\ttotal: 1m 4s\tremaining: 1m 25s\n",
      "129:\tlearn: 0.1629798\ttotal: 1m 4s\tremaining: 1m 24s\n",
      "130:\tlearn: 0.1629150\ttotal: 1m 5s\tremaining: 1m 24s\n",
      "131:\tlearn: 0.1628354\ttotal: 1m 5s\tremaining: 1m 23s\n",
      "132:\tlearn: 0.1627143\ttotal: 1m 6s\tremaining: 1m 23s\n",
      "133:\tlearn: 0.1626051\ttotal: 1m 6s\tremaining: 1m 22s\n",
      "134:\tlearn: 0.1624701\ttotal: 1m 7s\tremaining: 1m 22s\n",
      "135:\tlearn: 0.1624072\ttotal: 1m 7s\tremaining: 1m 21s\n",
      "136:\tlearn: 0.1622423\ttotal: 1m 8s\tremaining: 1m 21s\n",
      "137:\tlearn: 0.1620070\ttotal: 1m 8s\tremaining: 1m 20s\n",
      "138:\tlearn: 0.1619242\ttotal: 1m 9s\tremaining: 1m 20s\n",
      "139:\tlearn: 0.1617730\ttotal: 1m 9s\tremaining: 1m 19s\n",
      "140:\tlearn: 0.1613511\ttotal: 1m 10s\tremaining: 1m 19s\n",
      "141:\tlearn: 0.1611739\ttotal: 1m 10s\tremaining: 1m 18s\n",
      "142:\tlearn: 0.1610873\ttotal: 1m 11s\tremaining: 1m 18s\n",
      "143:\tlearn: 0.1609122\ttotal: 1m 11s\tremaining: 1m 17s\n",
      "144:\tlearn: 0.1608185\ttotal: 1m 12s\tremaining: 1m 17s\n",
      "145:\tlearn: 0.1606817\ttotal: 1m 12s\tremaining: 1m 16s\n",
      "146:\tlearn: 0.1606140\ttotal: 1m 13s\tremaining: 1m 16s\n",
      "147:\tlearn: 0.1605029\ttotal: 1m 13s\tremaining: 1m 15s\n",
      "148:\tlearn: 0.1603173\ttotal: 1m 14s\tremaining: 1m 15s\n",
      "149:\tlearn: 0.1601516\ttotal: 1m 14s\tremaining: 1m 14s\n",
      "150:\tlearn: 0.1600462\ttotal: 1m 15s\tremaining: 1m 14s\n",
      "151:\tlearn: 0.1599348\ttotal: 1m 15s\tremaining: 1m 13s\n",
      "152:\tlearn: 0.1597742\ttotal: 1m 16s\tremaining: 1m 13s\n",
      "153:\tlearn: 0.1596771\ttotal: 1m 16s\tremaining: 1m 12s\n",
      "154:\tlearn: 0.1595475\ttotal: 1m 17s\tremaining: 1m 12s\n",
      "155:\tlearn: 0.1594667\ttotal: 1m 17s\tremaining: 1m 11s\n",
      "156:\tlearn: 0.1594159\ttotal: 1m 18s\tremaining: 1m 11s\n",
      "157:\tlearn: 0.1592786\ttotal: 1m 18s\tremaining: 1m 10s\n",
      "158:\tlearn: 0.1591116\ttotal: 1m 19s\tremaining: 1m 10s\n",
      "159:\tlearn: 0.1590089\ttotal: 1m 19s\tremaining: 1m 9s\n",
      "160:\tlearn: 0.1588348\ttotal: 1m 19s\tremaining: 1m 9s\n",
      "161:\tlearn: 0.1586647\ttotal: 1m 20s\tremaining: 1m 8s\n",
      "162:\tlearn: 0.1585569\ttotal: 1m 20s\tremaining: 1m 7s\n",
      "163:\tlearn: 0.1584145\ttotal: 1m 21s\tremaining: 1m 7s\n",
      "164:\tlearn: 0.1582844\ttotal: 1m 21s\tremaining: 1m 6s\n",
      "165:\tlearn: 0.1581136\ttotal: 1m 22s\tremaining: 1m 6s\n",
      "166:\tlearn: 0.1580488\ttotal: 1m 22s\tremaining: 1m 5s\n",
      "167:\tlearn: 0.1579543\ttotal: 1m 23s\tremaining: 1m 5s\n",
      "168:\tlearn: 0.1578678\ttotal: 1m 23s\tremaining: 1m 4s\n",
      "169:\tlearn: 0.1577457\ttotal: 1m 24s\tremaining: 1m 4s\n",
      "170:\tlearn: 0.1576595\ttotal: 1m 24s\tremaining: 1m 3s\n",
      "171:\tlearn: 0.1576012\ttotal: 1m 25s\tremaining: 1m 3s\n",
      "172:\tlearn: 0.1574764\ttotal: 1m 25s\tremaining: 1m 2s\n",
      "173:\tlearn: 0.1573837\ttotal: 1m 25s\tremaining: 1m 2s\n",
      "174:\tlearn: 0.1572684\ttotal: 1m 26s\tremaining: 1m 1s\n",
      "175:\tlearn: 0.1571961\ttotal: 1m 26s\tremaining: 1m 1s\n",
      "176:\tlearn: 0.1571437\ttotal: 1m 27s\tremaining: 1m\n",
      "177:\tlearn: 0.1569521\ttotal: 1m 27s\tremaining: 1m\n",
      "178:\tlearn: 0.1568230\ttotal: 1m 28s\tremaining: 59.7s\n",
      "179:\tlearn: 0.1567351\ttotal: 1m 28s\tremaining: 59.2s\n",
      "180:\tlearn: 0.1566413\ttotal: 1m 29s\tremaining: 58.6s\n",
      "181:\tlearn: 0.1565364\ttotal: 1m 29s\tremaining: 58.1s\n",
      "182:\tlearn: 0.1562838\ttotal: 1m 30s\tremaining: 57.6s\n",
      "183:\tlearn: 0.1561363\ttotal: 1m 30s\tremaining: 57.1s\n",
      "184:\tlearn: 0.1560574\ttotal: 1m 31s\tremaining: 56.6s\n",
      "185:\tlearn: 0.1559562\ttotal: 1m 31s\tremaining: 56.1s\n",
      "186:\tlearn: 0.1558690\ttotal: 1m 32s\tremaining: 55.6s\n",
      "187:\tlearn: 0.1558019\ttotal: 1m 32s\tremaining: 55.1s\n",
      "188:\tlearn: 0.1556918\ttotal: 1m 32s\tremaining: 54.6s\n",
      "189:\tlearn: 0.1556050\ttotal: 1m 33s\tremaining: 54.1s\n",
      "190:\tlearn: 0.1555261\ttotal: 1m 33s\tremaining: 53.6s\n",
      "191:\tlearn: 0.1553980\ttotal: 1m 34s\tremaining: 53.1s\n",
      "192:\tlearn: 0.1552911\ttotal: 1m 34s\tremaining: 52.6s\n",
      "193:\tlearn: 0.1552312\ttotal: 1m 35s\tremaining: 52.1s\n",
      "194:\tlearn: 0.1551252\ttotal: 1m 35s\tremaining: 51.5s\n",
      "195:\tlearn: 0.1550480\ttotal: 1m 36s\tremaining: 51s\n",
      "196:\tlearn: 0.1549746\ttotal: 1m 36s\tremaining: 50.5s\n",
      "197:\tlearn: 0.1549245\ttotal: 1m 37s\tremaining: 50s\n",
      "198:\tlearn: 0.1547408\ttotal: 1m 37s\tremaining: 49.5s\n",
      "199:\tlearn: 0.1546715\ttotal: 1m 37s\tremaining: 49s\n",
      "200:\tlearn: 0.1546199\ttotal: 1m 38s\tremaining: 48.5s\n",
      "201:\tlearn: 0.1543353\ttotal: 1m 38s\tremaining: 48s\n",
      "202:\tlearn: 0.1543113\ttotal: 1m 39s\tremaining: 47.5s\n",
      "203:\tlearn: 0.1541822\ttotal: 1m 39s\tremaining: 47s\n",
      "204:\tlearn: 0.1540605\ttotal: 1m 40s\tremaining: 46.5s\n",
      "205:\tlearn: 0.1539507\ttotal: 1m 40s\tremaining: 46s\n",
      "206:\tlearn: 0.1538302\ttotal: 1m 41s\tremaining: 45.5s\n",
      "207:\tlearn: 0.1537685\ttotal: 1m 41s\tremaining: 45s\n",
      "208:\tlearn: 0.1537380\ttotal: 1m 42s\tremaining: 44.5s\n",
      "209:\tlearn: 0.1536965\ttotal: 1m 42s\tremaining: 44s\n",
      "210:\tlearn: 0.1533953\ttotal: 1m 43s\tremaining: 43.5s\n",
      "211:\tlearn: 0.1533598\ttotal: 1m 43s\tremaining: 43s\n",
      "212:\tlearn: 0.1531961\ttotal: 1m 43s\tremaining: 42.5s\n",
      "213:\tlearn: 0.1530552\ttotal: 1m 44s\tremaining: 42s\n",
      "214:\tlearn: 0.1528990\ttotal: 1m 44s\tremaining: 41.5s\n",
      "215:\tlearn: 0.1527863\ttotal: 1m 45s\tremaining: 41s\n",
      "216:\tlearn: 0.1526898\ttotal: 1m 45s\tremaining: 40.5s\n",
      "217:\tlearn: 0.1525556\ttotal: 1m 46s\tremaining: 40s\n",
      "218:\tlearn: 0.1525039\ttotal: 1m 46s\tremaining: 39.5s\n",
      "219:\tlearn: 0.1524508\ttotal: 1m 47s\tremaining: 39s\n",
      "220:\tlearn: 0.1523967\ttotal: 1m 47s\tremaining: 38.5s\n",
      "221:\tlearn: 0.1522574\ttotal: 1m 48s\tremaining: 38s\n",
      "222:\tlearn: 0.1521382\ttotal: 1m 48s\tremaining: 37.5s\n",
      "223:\tlearn: 0.1520224\ttotal: 1m 48s\tremaining: 37s\n",
      "224:\tlearn: 0.1519071\ttotal: 1m 49s\tremaining: 36.5s\n",
      "225:\tlearn: 0.1517271\ttotal: 1m 49s\tremaining: 36s\n",
      "226:\tlearn: 0.1516775\ttotal: 1m 50s\tremaining: 35.5s\n",
      "227:\tlearn: 0.1516319\ttotal: 1m 50s\tremaining: 35s\n",
      "228:\tlearn: 0.1515315\ttotal: 1m 51s\tremaining: 34.5s\n",
      "229:\tlearn: 0.1514216\ttotal: 1m 51s\tremaining: 34s\n",
      "230:\tlearn: 0.1512355\ttotal: 1m 52s\tremaining: 33.5s\n",
      "231:\tlearn: 0.1509454\ttotal: 1m 52s\tremaining: 33.1s\n",
      "232:\tlearn: 0.1508934\ttotal: 1m 53s\tremaining: 32.5s\n",
      "233:\tlearn: 0.1507519\ttotal: 1m 53s\tremaining: 32.1s\n",
      "234:\tlearn: 0.1506726\ttotal: 1m 54s\tremaining: 31.6s\n",
      "235:\tlearn: 0.1505704\ttotal: 1m 54s\tremaining: 31.1s\n",
      "236:\tlearn: 0.1505042\ttotal: 1m 54s\tremaining: 30.6s\n",
      "237:\tlearn: 0.1503377\ttotal: 1m 55s\tremaining: 30.1s\n",
      "238:\tlearn: 0.1502360\ttotal: 1m 55s\tremaining: 29.6s\n",
      "239:\tlearn: 0.1501790\ttotal: 1m 56s\tremaining: 29.1s\n",
      "240:\tlearn: 0.1499531\ttotal: 1m 56s\tremaining: 28.6s\n",
      "241:\tlearn: 0.1498756\ttotal: 1m 57s\tremaining: 28.1s\n",
      "242:\tlearn: 0.1497497\ttotal: 1m 57s\tremaining: 27.6s\n",
      "243:\tlearn: 0.1497238\ttotal: 1m 58s\tremaining: 27.1s\n",
      "244:\tlearn: 0.1496398\ttotal: 1m 58s\tremaining: 26.6s\n",
      "245:\tlearn: 0.1495833\ttotal: 1m 59s\tremaining: 26.1s\n",
      "246:\tlearn: 0.1494932\ttotal: 1m 59s\tremaining: 25.7s\n",
      "247:\tlearn: 0.1493824\ttotal: 2m\tremaining: 25.2s\n",
      "248:\tlearn: 0.1493093\ttotal: 2m\tremaining: 24.7s\n",
      "249:\tlearn: 0.1491541\ttotal: 2m\tremaining: 24.2s\n",
      "250:\tlearn: 0.1490561\ttotal: 2m 1s\tremaining: 23.7s\n",
      "251:\tlearn: 0.1489341\ttotal: 2m 1s\tremaining: 23.2s\n",
      "252:\tlearn: 0.1488756\ttotal: 2m 2s\tremaining: 22.7s\n",
      "253:\tlearn: 0.1488124\ttotal: 2m 2s\tremaining: 22.2s\n",
      "254:\tlearn: 0.1487071\ttotal: 2m 3s\tremaining: 21.7s\n",
      "255:\tlearn: 0.1486064\ttotal: 2m 3s\tremaining: 21.2s\n",
      "256:\tlearn: 0.1485064\ttotal: 2m 4s\tremaining: 20.8s\n",
      "257:\tlearn: 0.1484138\ttotal: 2m 4s\tremaining: 20.3s\n",
      "258:\tlearn: 0.1483531\ttotal: 2m 4s\tremaining: 19.8s\n",
      "259:\tlearn: 0.1482249\ttotal: 2m 5s\tremaining: 19.3s\n",
      "260:\tlearn: 0.1481546\ttotal: 2m 5s\tremaining: 18.8s\n",
      "261:\tlearn: 0.1480100\ttotal: 2m 6s\tremaining: 18.3s\n",
      "262:\tlearn: 0.1479114\ttotal: 2m 6s\tremaining: 17.8s\n",
      "263:\tlearn: 0.1477987\ttotal: 2m 7s\tremaining: 17.4s\n",
      "264:\tlearn: 0.1477446\ttotal: 2m 7s\tremaining: 16.9s\n",
      "265:\tlearn: 0.1476547\ttotal: 2m 8s\tremaining: 16.4s\n",
      "266:\tlearn: 0.1475420\ttotal: 2m 8s\tremaining: 15.9s\n",
      "267:\tlearn: 0.1474656\ttotal: 2m 9s\tremaining: 15.4s\n",
      "268:\tlearn: 0.1473574\ttotal: 2m 9s\tremaining: 14.9s\n",
      "269:\tlearn: 0.1473283\ttotal: 2m 10s\tremaining: 14.4s\n",
      "270:\tlearn: 0.1471910\ttotal: 2m 10s\tremaining: 14s\n",
      "271:\tlearn: 0.1470681\ttotal: 2m 10s\tremaining: 13.5s\n",
      "272:\tlearn: 0.1469387\ttotal: 2m 11s\tremaining: 13s\n",
      "273:\tlearn: 0.1468043\ttotal: 2m 11s\tremaining: 12.5s\n",
      "274:\tlearn: 0.1466993\ttotal: 2m 12s\tremaining: 12s\n",
      "275:\tlearn: 0.1466061\ttotal: 2m 12s\tremaining: 11.5s\n",
      "276:\tlearn: 0.1464856\ttotal: 2m 13s\tremaining: 11.1s\n",
      "277:\tlearn: 0.1463862\ttotal: 2m 13s\tremaining: 10.6s\n",
      "278:\tlearn: 0.1463435\ttotal: 2m 14s\tremaining: 10.1s\n",
      "279:\tlearn: 0.1462086\ttotal: 2m 14s\tremaining: 9.61s\n",
      "280:\tlearn: 0.1461573\ttotal: 2m 14s\tremaining: 9.12s\n",
      "281:\tlearn: 0.1460648\ttotal: 2m 15s\tremaining: 8.64s\n",
      "282:\tlearn: 0.1459706\ttotal: 2m 15s\tremaining: 8.16s\n",
      "283:\tlearn: 0.1458603\ttotal: 2m 16s\tremaining: 7.67s\n",
      "284:\tlearn: 0.1457585\ttotal: 2m 16s\tremaining: 7.19s\n",
      "285:\tlearn: 0.1456753\ttotal: 2m 17s\tremaining: 6.71s\n",
      "286:\tlearn: 0.1456024\ttotal: 2m 17s\tremaining: 6.23s\n",
      "287:\tlearn: 0.1454672\ttotal: 2m 17s\tremaining: 5.75s\n",
      "288:\tlearn: 0.1453422\ttotal: 2m 18s\tremaining: 5.27s\n",
      "289:\tlearn: 0.1452952\ttotal: 2m 18s\tremaining: 4.79s\n",
      "290:\tlearn: 0.1451812\ttotal: 2m 19s\tremaining: 4.31s\n",
      "291:\tlearn: 0.1450860\ttotal: 2m 19s\tremaining: 3.83s\n",
      "292:\tlearn: 0.1449260\ttotal: 2m 20s\tremaining: 3.35s\n",
      "293:\tlearn: 0.1448071\ttotal: 2m 20s\tremaining: 2.87s\n",
      "294:\tlearn: 0.1446843\ttotal: 2m 21s\tremaining: 2.39s\n",
      "295:\tlearn: 0.1445832\ttotal: 2m 21s\tremaining: 1.91s\n",
      "296:\tlearn: 0.1444918\ttotal: 2m 22s\tremaining: 1.44s\n",
      "297:\tlearn: 0.1444617\ttotal: 2m 22s\tremaining: 956ms\n",
      "298:\tlearn: 0.1443446\ttotal: 2m 22s\tremaining: 478ms\n",
      "299:\tlearn: 0.1440521\ttotal: 2m 23s\tremaining: 0us\n"
     ]
    },
    {
     "data": {
      "text/plain": [
       "<catboost.core.CatBoostClassifier at 0x1f75adc0348>"
      ]
     },
     "execution_count": 91,
     "metadata": {},
     "output_type": "execute_result"
    }
   ],
   "source": [
    "categorical_features_indices = np.where(X_train.dtypes != np.float)[0]   #define categorical features pass to catboost\n",
    "cb = CatBoostClassifier(iterations=300, depth =6,\n",
    "                           cat_features= categorical_features_indices,\n",
    "                           learning_rate=0.3, loss_function='Logloss',\n",
    "                        class_weights = [0.2, 0.86]\n",
    "                            )\n",
    "cb.fit(X_train, y_train, \n",
    "       cat_features= categorical_features_indices)"
   ]
  },
  {
   "cell_type": "code",
   "execution_count": 92,
   "metadata": {},
   "outputs": [
    {
     "name": "stdout",
     "output_type": "stream",
     "text": [
      "F1 score is  0.29796\n",
      "Accuracy is  0.98526\n",
      "roc auc score is  0.598\n"
     ]
    }
   ],
   "source": [
    "y_pred = cb.predict(X_test)\n",
    "print(\"F1 score is \", np.round(f1_score(y_test, y_pred), 5))\n",
    "print(\"Accuracy is \", np.round(accuracy_score(y_test, y_pred), 5))\n",
    "print(\"roc auc score is \", np.round(roc_auc_score(y_test, y_pred),4))"
   ]
  },
  {
   "cell_type": "code",
   "execution_count": 94,
   "metadata": {},
   "outputs": [
    {
     "data": {
      "text/plain": [
       "array([[308925,    654],\n",
       "       [  3983,    984]], dtype=int64)"
      ]
     },
     "execution_count": 94,
     "metadata": {},
     "output_type": "execute_result"
    }
   ],
   "source": [
    "confusion_matrix(y_test, y_pred)"
   ]
  },
  {
   "cell_type": "markdown",
   "metadata": {},
   "source": [
    "# Summary\n",
    "###  model performance\n",
    "- I have tried two models here, one is XBoost and Catboost. Gradient boosting is better for imbanlanced data, so generally I chose GBMs.\n",
    "- For XGBoost, I have got the best result as F1-score = 0.27, Accuracy 98.53%, as the true negative portion is as high as 98.4%, it is really hard to get better, here the improvement is around 0.1%, While by adjusting the \"scale_pos_weight\" slight higher or lower, it gives a higher F1 score but lower accuracy. After considering the tradeoff, I chose this one as final model for XGBoost, the parameters are showed above. Also, as I adjust \"max_depth\" to \"10\" adn learning rate to \"0.4\", it does give a higher accuracy as 98.6%, though sacrifice the F1 score to 0.26. It depends on what we want the model do better, to be more sensitive to positive case or prevent losing customers from making too many false positive. Here needs a financial estimation, use what strategy can maximize profits as well as protext customers from loss.\n",
    "\n",
    "- For Catboost, I have got result as F1-score = 0.29, although accuracy dropped below 98.4% at first. After trying another ratio of \"class weight\". I have achieved F1 as 0.298 while keeping accuracy above 98.4% and get accuracy as 98.52%. Roughly 0.1% improvement. I have also got F1 score = 0.3 while the accurach dropped below 98.4%.\n",
    "\n",
    "- Gradient based models can dealing better with imbalanced data, but since our data is hightly imbalanced, it is the biggest challenge for us to handle it. Another characteristic with dataset is that it has a lof of categorical features. Noticing one-hot encoder is not a good way to handle man categorical features, as it will influence model performance as well as create a large dataset.\n",
    "\n",
    "- I have tried XGBoost with gridsearch but due to computation resourses are limited it cannot automatically help decide the best hyperparameters, intead, it needs mannual tuning.\n",
    "\n",
    "### feature analysis\n",
    "- noticing \"merchantName\" has around 2000 diffferent values, using onehot encoder handle it make the whole process slow and degrade the model performance, so as a result, I have used label encoder instead.\n",
    "\n",
    "- From feature importance results, we can see that feature engineering basically is a success, because the manuully created feature are all on the 15 most importance features. The most important feature is \"merchantName\", and the engineering features \"AverageAmount_30days\", \"AmountMerchant_30days\", \"availableMoney\", \"AmountMerchantName_30days\", \"count30days\", \"NumberMerchantType30days\", \"NumberMerchantName30days\" are all on the most important 15 features list. It indicate the strategy of feature engineering that try to create feature with merchant is correct direction, as we see from EDA that merchant type, merchant name those features play a crucial part for deciding whether a transaction is a fraud.\n",
    "- more feature engineering should be done with the feature related to \"pos\" and \"country\", as we see from the EDA posEntryMode feature may enhance the model performance. Actually, I have done the work for creating related feature with \"pos\". Although due to the limited time, I have not apply them to model yet."
   ]
  },
  {
   "cell_type": "markdown",
   "metadata": {},
   "source": [
    "### Feature work\n",
    "- - For dealingg with imbalanced data is the biggest challenge here, in the future, undersampling and oversampling can be tried such as SMOTE.\n",
    "- - As I figure out \"merchantName\" is the most important predictor, think about how to handle this feature is crucial for model success, although it is hard for a few hours task, but in the future, if there is any chance I would like to learn more about how to handle many values categorical data.\n",
    "- - There are some other model I would like to try but did not have enough time. As this is a highly imbalanced data set, outlier detection method may be an appropriate method, such as \"Isolation Forest\" algorithm. It seperate the abnormal data point at the early branch of the tree, when compare the depth(the number of trees on on branch), find the least depth, which will be define as abnormal behavior. Another algorithm I would like to try is DBSCAN algorithm, it is a density based clustering algorithm, it may work under a imbalanced data set situation.\n",
    "- - For catboost algorithm there should be a lot to explore, as it give such a huge convenience on handling the categorical data. Tuning parameters and find best combination of hyperparameters definitely can boost the algorithm, due to the time limitation, this has not been done perfectly, if there is more time, I would like to spend more time on research about it.\n",
    "- - There is a lot feature engineering can be done as well. From the feature importance figure drew from XGBoost model we can see that posEntryMode plays a big part as well, actually I have did some feature engineering towards that too, but due to the limited time, I did not process and use them. In the future, it looks promissing to try more feature created with posEntryMode, maybe as well as \"country\" related features as we saw in EDA that country affect the fraud appear frequency as well.\n",
    "- - I was planning to to shap value feature importance investigation as well, from that we could better understand how each feature affect each other.\n"
   ]
  },
  {
   "cell_type": "markdown",
   "metadata": {},
   "source": [
    "#### Feature engineering for future use"
   ]
  },
  {
   "cell_type": "code",
   "execution_count": null,
   "metadata": {},
   "outputs": [],
   "source": [
    "# ###feature8 &9\n",
    "data_copy = data1\n",
    "data_copy = data_copy.set_index('transactionDateTime')\n",
    "_group = data_copy.groupby(['accountNumber', 'posConditionCode']).rolling('30d').transactionAmount.mean()\n",
    "AmountPosCondition = pd.DataFrame(_group)\n",
    "AmountPosCondition = AmountPosCondition.rename(columns={\"transactionAmount\":\"AmountPosCondition\"})\n",
    "AmountPosCondition = AmountPosCondition.reset_index()\n",
    "data_copy = data_copy.reset_index()\n",
    "data_copy = data_copy.sort_values(by=['accountNumber', 'posConditionCode'], ignore_index = True)\n",
    "data1 = pd.concat([data_copy, AmountPosCondition['AmountPosCondition']], axis = 1)\n",
    "data1['AmountPosCondition'] = data1['AmountPosCondition'].apply(lambda x: np.round(x, 2))\n",
    "\n",
    "# ###feature9\n",
    "data_copy = data1\n",
    "data_copy = data_copy.set_index('transactionDateTime')\n",
    "_group = data_copy.groupby(['accountNumber', 'posConditionCode']).rolling('30d').transactionAmount.count()\n",
    "NumberPosCondition = pd.DataFrame(_group)\n",
    "NumberPosCondition = NumberPosCondition.rename(columns={\"transactionAmount\":\"NumberPosCondition\"})\n",
    "NumberPosCondition = NumberPosCondition.reset_index()\n",
    "data_copy = data_copy.reset_index()\n",
    "data_copy = data_copy.sort_values(by=['accountNumber', 'posConditionCode'], ignore_index = True)\n",
    "data1 = pd.concat([data_copy, NumberPosCondition['NumberPosCondition']], axis = 1)\n",
    "data1['NumberPosCondition'] = data1['NumberPosCondition'].apply(lambda x: np.round(x, 2))"
   ]
  }
 ],
 "metadata": {
  "kernelspec": {
   "display_name": "Python 3",
   "language": "python",
   "name": "python3"
  },
  "language_info": {
   "codemirror_mode": {
    "name": "ipython",
    "version": 3
   },
   "file_extension": ".py",
   "mimetype": "text/x-python",
   "name": "python",
   "nbconvert_exporter": "python",
   "pygments_lexer": "ipython3",
   "version": "3.7.4"
  }
 },
 "nbformat": 4,
 "nbformat_minor": 4
}
